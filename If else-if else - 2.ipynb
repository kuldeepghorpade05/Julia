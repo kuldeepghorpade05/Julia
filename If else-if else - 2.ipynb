{
 "cells": [
  {
   "cell_type": "code",
   "execution_count": 1,
   "id": "9c492ff9",
   "metadata": {},
   "outputs": [],
   "source": [
    "#Name:- Kuldeep Ghorpade\n",
    "\n",
    "#If, elseif and else - 2"
   ]
  },
  {
   "cell_type": "code",
   "execution_count": 2,
   "id": "a1e71ca9",
   "metadata": {},
   "outputs": [
    {
     "data": {
      "text/plain": [
       "\"Wrong\""
      ]
     },
     "execution_count": 2,
     "metadata": {},
     "output_type": "execute_result"
    }
   ],
   "source": [
    "a=100\n",
    "a<20 ? \"Right\" : \"Wrong\""
   ]
  },
  {
   "cell_type": "code",
   "execution_count": 3,
   "id": "11cd42ac",
   "metadata": {},
   "outputs": [
    {
     "data": {
      "text/plain": [
       "\"Right\""
      ]
     },
     "execution_count": 3,
     "metadata": {},
     "output_type": "execute_result"
    }
   ],
   "source": [
    "a>20 ? \"Right\" : \"Wrong\""
   ]
  },
  {
   "cell_type": "code",
   "execution_count": 4,
   "id": "06b16952",
   "metadata": {},
   "outputs": [],
   "source": [
    "#If, elseif and else"
   ]
  },
  {
   "cell_type": "code",
   "execution_count": 5,
   "id": "2170167c",
   "metadata": {},
   "outputs": [
    {
     "data": {
      "text/plain": [
       "\"Apple\""
      ]
     },
     "execution_count": 5,
     "metadata": {},
     "output_type": "execute_result"
    }
   ],
   "source": [
    "fruit = \"Apple\""
   ]
  },
  {
   "cell_type": "code",
   "execution_count": 6,
   "id": "00976195",
   "metadata": {},
   "outputs": [
    {
     "name": "stdout",
     "output_type": "stream",
     "text": [
      "I like Apple\n"
     ]
    }
   ],
   "source": [
    "if fruit == \"Apple\"\n",
    "println(\"I like Apple\")\n",
    "end"
   ]
  },
  {
   "cell_type": "code",
   "execution_count": 7,
   "id": "e8e3522d",
   "metadata": {},
   "outputs": [
    {
     "name": "stdout",
     "output_type": "stream",
     "text": [
      "I like Apple\n"
     ]
    }
   ],
   "source": [
    "if fruit == \"Apple\"\n",
    "println(\"I like Apple\")\n",
    "else\n",
    "println(\"I like other fruit\")\n",
    "end"
   ]
  },
  {
   "cell_type": "code",
   "execution_count": 8,
   "id": "627fa2fc",
   "metadata": {},
   "outputs": [
    {
     "name": "stdout",
     "output_type": "stream",
     "text": [
      "I like Apple\n"
     ]
    }
   ],
   "source": [
    "if fruit == \"Apple\"\n",
    "println(\"I like Apple\")\n",
    "elseif fruit == \"Banana\"\n",
    "println(\"I like Banana.\")\n",
    "println(\"But I prefer Apple.\")\n",
    "else\n",
    "println(\"I don't know what I like\")\n",
    "end\n"
   ]
  },
  {
   "cell_type": "code",
   "execution_count": 9,
   "id": "74816cda",
   "metadata": {},
   "outputs": [],
   "source": [
    "#Loops\n",
    "#For LOOP"
   ]
  },
  {
   "cell_type": "code",
   "execution_count": 10,
   "id": "89fa67d3",
   "metadata": {},
   "outputs": [
    {
     "name": "stdout",
     "output_type": "stream",
     "text": [
      "1\n",
      "3\n",
      "5\n",
      "7\n",
      "9\n"
     ]
    }
   ],
   "source": [
    "for i in 1:2:10\n",
    "println(i)\n",
    "end"
   ]
  },
  {
   "cell_type": "code",
   "execution_count": 11,
   "id": "ff08dd98",
   "metadata": {},
   "outputs": [
    {
     "name": "stdout",
     "output_type": "stream",
     "text": [
      "0\n",
      "2\n",
      "4\n",
      "6\n",
      "8\n",
      "10\n"
     ]
    }
   ],
   "source": [
    "for i = 0:2:10\n",
    "println(i)\n",
    "end"
   ]
  },
  {
   "cell_type": "code",
   "execution_count": 12,
   "id": "05193053",
   "metadata": {},
   "outputs": [],
   "source": [
    "#Variables declared inside a loop\n"
   ]
  },
  {
   "cell_type": "code",
   "execution_count": 13,
   "id": "ae192591",
   "metadata": {},
   "outputs": [
    {
     "name": "stdout",
     "output_type": "stream",
     "text": [
      "1 squared is 1\n",
      "2 squared is 4\n",
      "3 squared is 9\n",
      "4 squared is 16\n",
      "5 squared is 25\n",
      "6 squared is 36\n",
      "7 squared is 49\n",
      "8 squared is 64\n",
      "9 squared is 81\n",
      "10 squared is 100\n"
     ]
    }
   ],
   "source": [
    "for x in 1:10\n",
    "y = x^2\n",
    "println(\"$(x) squared is $(y)\")\n",
    "end"
   ]
  },
  {
   "cell_type": "code",
   "execution_count": 14,
   "id": "01c948e2",
   "metadata": {},
   "outputs": [],
   "source": [
    "#while Loop"
   ]
  },
  {
   "cell_type": "code",
   "execution_count": 15,
   "id": "c5957627",
   "metadata": {},
   "outputs": [
    {
     "name": "stdout",
     "output_type": "stream",
     "text": [
      "1\n",
      "2\n",
      "3\n",
      "4\n",
      "5\n",
      "6\n",
      "7\n",
      "8\n",
      "9\n",
      "10\n"
     ]
    }
   ],
   "source": [
    "i=1\n",
    "while i<=10\n",
    "println(i)\n",
    "i=i+1\n",
    "end"
   ]
  },
  {
   "cell_type": "code",
   "execution_count": 16,
   "id": "532bba4f",
   "metadata": {},
   "outputs": [],
   "source": [
    "#ContinueStatement"
   ]
  },
  {
   "cell_type": "code",
   "execution_count": 18,
   "id": "2ce176e9",
   "metadata": {},
   "outputs": [
    {
     "name": "stdout",
     "output_type": "stream",
     "text": [
      "1\n",
      "2\n",
      "3\n",
      "5\n",
      "6\n",
      "7\n",
      "9\n",
      "10\n"
     ]
    }
   ],
   "source": [
    "for x in 1:10\n",
    "if x % 4 == 0\n",
    "continue\n",
    "        end\n",
    "println(x)\n",
    "end\n"
   ]
  },
  {
   "cell_type": "code",
   "execution_count": 19,
   "id": "c061a343",
   "metadata": {},
   "outputs": [
    {
     "name": "stdout",
     "output_type": "stream",
     "text": [
      "1\n",
      "2\n",
      "3\n"
     ]
    }
   ],
   "source": [
    "for x in 1:10\n",
    "if x % 4 == 0\n",
    "break\n",
    "end\n",
    "println(x)\n",
    "end"
   ]
  },
  {
   "cell_type": "code",
   "execution_count": 20,
   "id": "46967e53",
   "metadata": {},
   "outputs": [],
   "source": [
    "#Functions\n",
    "#Defining functions"
   ]
  },
  {
   "cell_type": "code",
   "execution_count": 21,
   "id": "475a2c59",
   "metadata": {},
   "outputs": [
    {
     "data": {
      "text/plain": [
       "addition (generic function with 1 method)"
      ]
     },
     "execution_count": 21,
     "metadata": {},
     "output_type": "execute_result"
    }
   ],
   "source": [
    "function addition(x,y)\n",
    " \n",
    "#perform addition operation\n",
    "return x + y\n",
    "end\n"
   ]
  },
  {
   "cell_type": "code",
   "execution_count": 22,
   "id": "0ef1a0bd",
   "metadata": {},
   "outputs": [
    {
     "name": "stdout",
     "output_type": "stream",
     "text": [
      "The Addition = addition"
     ]
    }
   ],
   "source": [
    "addition(10,20)\n",
    "print(\"The Addition = \", addition)"
   ]
  },
  {
   "cell_type": "code",
   "execution_count": 23,
   "id": "c4b1b3ba",
   "metadata": {},
   "outputs": [
    {
     "name": "stdout",
     "output_type": "stream",
     "text": [
      "The Addition = addition"
     ]
    }
   ],
   "source": [
    "addition(x,y)=x+y\n",
    "print(\"The Addition = \", addition)\n"
   ]
  },
  {
   "cell_type": "code",
   "execution_count": 24,
   "id": "6b7b9a4f",
   "metadata": {},
   "outputs": [
    {
     "name": "stdout",
     "output_type": "stream",
     "text": [
      "The Addition = addition"
     ]
    }
   ],
   "source": [
    "addition(12,24)\n",
    "print(\"The Addition = \", addition)\n"
   ]
  },
  {
   "cell_type": "code",
   "execution_count": 25,
   "id": "5b6fe937",
   "metadata": {},
   "outputs": [
    {
     "data": {
      "text/plain": [
       "3-element Vector{Int64}:\n",
       " 16\n",
       "  9\n",
       " 64"
      ]
     },
     "execution_count": 25,
     "metadata": {},
     "output_type": "execute_result"
    }
   ],
   "source": [
    "map(A -> A^2, [4,-3,8])"
   ]
  },
  {
   "cell_type": "code",
   "execution_count": 26,
   "id": "f132dd17",
   "metadata": {},
   "outputs": [
    {
     "data": {
      "text/plain": [
       "say_hello (generic function with 1 method)"
      ]
     },
     "execution_count": 26,
     "metadata": {},
     "output_type": "execute_result"
    }
   ],
   "source": [
    "function say_hello()\n",
    "println(\"Hello\")\n",
    "return\n",
    "end\n"
   ]
  },
  {
   "cell_type": "code",
   "execution_count": 27,
   "id": "66736f46",
   "metadata": {},
   "outputs": [
    {
     "name": "stdout",
     "output_type": "stream",
     "text": [
      "Hello\n"
     ]
    }
   ],
   "source": [
    "say_hello()"
   ]
  },
  {
   "cell_type": "code",
   "execution_count": 28,
   "id": "af659502",
   "metadata": {},
   "outputs": [],
   "source": [
    "#Optional Positional Arguments"
   ]
  },
  {
   "cell_type": "code",
   "execution_count": 29,
   "id": "5274913b",
   "metadata": {},
   "outputs": [
    {
     "data": {
      "text/plain": [
       "Weight_calc (generic function with 2 methods)"
      ]
     },
     "execution_count": 29,
     "metadata": {},
     "output_type": "execute_result"
    }
   ],
   "source": [
    "function Weight_calc(weight_Earth, g=9.81)\n",
    "return weight_Earth*g/9.81\n",
    "end"
   ]
  },
  {
   "cell_type": "code",
   "execution_count": 30,
   "id": "6dbf97ca",
   "metadata": {},
   "outputs": [
    {
     "data": {
      "text/plain": [
       "80.0"
      ]
     },
     "execution_count": 30,
     "metadata": {},
     "output_type": "execute_result"
    }
   ],
   "source": [
    "Weight_calc(80)"
   ]
  },
  {
   "cell_type": "code",
   "execution_count": 31,
   "id": "6fea3b66",
   "metadata": {},
   "outputs": [
    {
     "data": {
      "text/plain": [
       "22.691131498470945"
      ]
     },
     "execution_count": 31,
     "metadata": {},
     "output_type": "execute_result"
    }
   ],
   "source": [
    "\n",
    "Weight_calc(60,3.71)"
   ]
  },
  {
   "cell_type": "code",
   "execution_count": null,
   "id": "11adcca9",
   "metadata": {},
   "outputs": [],
   "source": []
  }
 ],
 "metadata": {
  "kernelspec": {
   "display_name": "Julia 1.8.3",
   "language": "julia",
   "name": "julia-1.8"
  },
  "language_info": {
   "file_extension": ".jl",
   "mimetype": "application/julia",
   "name": "julia",
   "version": "1.8.3"
  }
 },
 "nbformat": 4,
 "nbformat_minor": 5
}
