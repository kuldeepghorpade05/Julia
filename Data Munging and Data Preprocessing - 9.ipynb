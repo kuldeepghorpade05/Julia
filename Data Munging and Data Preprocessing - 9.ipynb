{
 "cells": [
  {
   "cell_type": "code",
   "execution_count": 1,
   "id": "8985e453",
   "metadata": {},
   "outputs": [],
   "source": [
    "#Name:- Kuldeep Ghorpade\n",
    "\n",
    "#ExperimentN No. & Name:- (09). Data munging and Data Preprocessing"
   ]
  },
  {
   "cell_type": "code",
   "execution_count": 2,
   "id": "f2e1f3aa",
   "metadata": {},
   "outputs": [],
   "source": [
    "using CSV\n",
    "using DataFrames"
   ]
  },
  {
   "cell_type": "code",
   "execution_count": 3,
   "id": "2748543c",
   "metadata": {},
   "outputs": [
    {
     "data": {
      "text/html": [
       "<div><div style = \"float: left;\"><span>614×13 DataFrame</span></div><div style = \"float: right;\"><span style = \"font-style: italic;\">589 rows omitted</span></div><div style = \"clear: both;\"></div></div><div class = \"data-frame\" style = \"overflow-x: scroll;\"><table class = \"data-frame\" style = \"margin-bottom: 6px;\"><thead><tr class = \"header\"><th class = \"rowNumber\" style = \"font-weight: bold; text-align: right;\">Row</th><th style = \"text-align: left;\">Loan_ID</th><th style = \"text-align: left;\">Gender</th><th style = \"text-align: left;\">Married</th><th style = \"text-align: left;\">Dependents</th><th style = \"text-align: left;\">Education</th><th style = \"text-align: left;\">Self_Employed</th><th style = \"text-align: left;\">ApplicantIncome</th><th style = \"text-align: left;\">CoapplicantIncome</th><th style = \"text-align: left;\">LoanAmount</th><th style = \"text-align: left;\">Loan_Amount_Term</th><th style = \"text-align: left;\">Credit_History</th><th style = \"text-align: left;\">Property_Area</th><th style = \"text-align: left;\">Loan_Status</th></tr><tr class = \"subheader headerLastRow\"><th class = \"rowNumber\" style = \"font-weight: bold; text-align: right;\"></th><th title = \"String15\" style = \"text-align: left;\">String15</th><th title = \"Union{Missing, String7}\" style = \"text-align: left;\">String7?</th><th title = \"Union{Missing, String3}\" style = \"text-align: left;\">String3?</th><th title = \"Union{Missing, String3}\" style = \"text-align: left;\">String3?</th><th title = \"String15\" style = \"text-align: left;\">String15</th><th title = \"Union{Missing, String3}\" style = \"text-align: left;\">String3?</th><th title = \"Int64\" style = \"text-align: left;\">Int64</th><th title = \"Float64\" style = \"text-align: left;\">Float64</th><th title = \"Union{Missing, Int64}\" style = \"text-align: left;\">Int64?</th><th title = \"Union{Missing, Int64}\" style = \"text-align: left;\">Int64?</th><th title = \"Union{Missing, Int64}\" style = \"text-align: left;\">Int64?</th><th title = \"String15\" style = \"text-align: left;\">String15</th><th title = \"String1\" style = \"text-align: left;\">String1</th></tr></thead><tbody><tr><td class = \"rowNumber\" style = \"font-weight: bold; text-align: right;\">1</td><td style = \"text-align: left;\">LP001002</td><td style = \"text-align: left;\">Male</td><td style = \"text-align: left;\">No</td><td style = \"text-align: left;\">0</td><td style = \"text-align: left;\">Graduate</td><td style = \"text-align: left;\">No</td><td style = \"text-align: right;\">5849</td><td style = \"text-align: right;\">0.0</td><td style = \"font-style: italic; text-align: right;\">missing</td><td style = \"text-align: right;\">360</td><td style = \"text-align: right;\">1</td><td style = \"text-align: left;\">Urban</td><td style = \"text-align: left;\">Y</td></tr><tr><td class = \"rowNumber\" style = \"font-weight: bold; text-align: right;\">2</td><td style = \"text-align: left;\">LP001003</td><td style = \"text-align: left;\">Male</td><td style = \"text-align: left;\">Yes</td><td style = \"text-align: left;\">1</td><td style = \"text-align: left;\">Graduate</td><td style = \"text-align: left;\">No</td><td style = \"text-align: right;\">4583</td><td style = \"text-align: right;\">1508.0</td><td style = \"text-align: right;\">128</td><td style = \"text-align: right;\">360</td><td style = \"text-align: right;\">1</td><td style = \"text-align: left;\">Rural</td><td style = \"text-align: left;\">N</td></tr><tr><td class = \"rowNumber\" style = \"font-weight: bold; text-align: right;\">3</td><td style = \"text-align: left;\">LP001005</td><td style = \"text-align: left;\">Male</td><td style = \"text-align: left;\">Yes</td><td style = \"text-align: left;\">0</td><td style = \"text-align: left;\">Graduate</td><td style = \"text-align: left;\">Yes</td><td style = \"text-align: right;\">3000</td><td style = \"text-align: right;\">0.0</td><td style = \"text-align: right;\">66</td><td style = \"text-align: right;\">360</td><td style = \"text-align: right;\">1</td><td style = \"text-align: left;\">Urban</td><td style = \"text-align: left;\">Y</td></tr><tr><td class = \"rowNumber\" style = \"font-weight: bold; text-align: right;\">4</td><td style = \"text-align: left;\">LP001006</td><td style = \"text-align: left;\">Male</td><td style = \"text-align: left;\">Yes</td><td style = \"text-align: left;\">0</td><td style = \"text-align: left;\">Not Graduate</td><td style = \"text-align: left;\">No</td><td style = \"text-align: right;\">2583</td><td style = \"text-align: right;\">2358.0</td><td style = \"text-align: right;\">120</td><td style = \"text-align: right;\">360</td><td style = \"text-align: right;\">1</td><td style = \"text-align: left;\">Urban</td><td style = \"text-align: left;\">Y</td></tr><tr><td class = \"rowNumber\" style = \"font-weight: bold; text-align: right;\">5</td><td style = \"text-align: left;\">LP001008</td><td style = \"text-align: left;\">Male</td><td style = \"text-align: left;\">No</td><td style = \"text-align: left;\">0</td><td style = \"text-align: left;\">Graduate</td><td style = \"text-align: left;\">No</td><td style = \"text-align: right;\">6000</td><td style = \"text-align: right;\">0.0</td><td style = \"text-align: right;\">141</td><td style = \"text-align: right;\">360</td><td style = \"text-align: right;\">1</td><td style = \"text-align: left;\">Urban</td><td style = \"text-align: left;\">Y</td></tr><tr><td class = \"rowNumber\" style = \"font-weight: bold; text-align: right;\">6</td><td style = \"text-align: left;\">LP001011</td><td style = \"text-align: left;\">Male</td><td style = \"text-align: left;\">Yes</td><td style = \"text-align: left;\">2</td><td style = \"text-align: left;\">Graduate</td><td style = \"text-align: left;\">Yes</td><td style = \"text-align: right;\">5417</td><td style = \"text-align: right;\">4196.0</td><td style = \"text-align: right;\">267</td><td style = \"text-align: right;\">360</td><td style = \"text-align: right;\">1</td><td style = \"text-align: left;\">Urban</td><td style = \"text-align: left;\">Y</td></tr><tr><td class = \"rowNumber\" style = \"font-weight: bold; text-align: right;\">7</td><td style = \"text-align: left;\">LP001013</td><td style = \"text-align: left;\">Male</td><td style = \"text-align: left;\">Yes</td><td style = \"text-align: left;\">0</td><td style = \"text-align: left;\">Not Graduate</td><td style = \"text-align: left;\">No</td><td style = \"text-align: right;\">2333</td><td style = \"text-align: right;\">1516.0</td><td style = \"text-align: right;\">95</td><td style = \"text-align: right;\">360</td><td style = \"text-align: right;\">1</td><td style = \"text-align: left;\">Urban</td><td style = \"text-align: left;\">Y</td></tr><tr><td class = \"rowNumber\" style = \"font-weight: bold; text-align: right;\">8</td><td style = \"text-align: left;\">LP001014</td><td style = \"text-align: left;\">Male</td><td style = \"text-align: left;\">Yes</td><td style = \"text-align: left;\">3+</td><td style = \"text-align: left;\">Graduate</td><td style = \"text-align: left;\">No</td><td style = \"text-align: right;\">3036</td><td style = \"text-align: right;\">2504.0</td><td style = \"text-align: right;\">158</td><td style = \"text-align: right;\">360</td><td style = \"text-align: right;\">0</td><td style = \"text-align: left;\">Semiurban</td><td style = \"text-align: left;\">N</td></tr><tr><td class = \"rowNumber\" style = \"font-weight: bold; text-align: right;\">9</td><td style = \"text-align: left;\">LP001018</td><td style = \"text-align: left;\">Male</td><td style = \"text-align: left;\">Yes</td><td style = \"text-align: left;\">2</td><td style = \"text-align: left;\">Graduate</td><td style = \"text-align: left;\">No</td><td style = \"text-align: right;\">4006</td><td style = \"text-align: right;\">1526.0</td><td style = \"text-align: right;\">168</td><td style = \"text-align: right;\">360</td><td style = \"text-align: right;\">1</td><td style = \"text-align: left;\">Urban</td><td style = \"text-align: left;\">Y</td></tr><tr><td class = \"rowNumber\" style = \"font-weight: bold; text-align: right;\">10</td><td style = \"text-align: left;\">LP001020</td><td style = \"text-align: left;\">Male</td><td style = \"text-align: left;\">Yes</td><td style = \"text-align: left;\">1</td><td style = \"text-align: left;\">Graduate</td><td style = \"text-align: left;\">No</td><td style = \"text-align: right;\">12841</td><td style = \"text-align: right;\">10968.0</td><td style = \"text-align: right;\">349</td><td style = \"text-align: right;\">360</td><td style = \"text-align: right;\">1</td><td style = \"text-align: left;\">Semiurban</td><td style = \"text-align: left;\">N</td></tr><tr><td class = \"rowNumber\" style = \"font-weight: bold; text-align: right;\">11</td><td style = \"text-align: left;\">LP001024</td><td style = \"text-align: left;\">Male</td><td style = \"text-align: left;\">Yes</td><td style = \"text-align: left;\">2</td><td style = \"text-align: left;\">Graduate</td><td style = \"text-align: left;\">No</td><td style = \"text-align: right;\">3200</td><td style = \"text-align: right;\">700.0</td><td style = \"text-align: right;\">70</td><td style = \"text-align: right;\">360</td><td style = \"text-align: right;\">1</td><td style = \"text-align: left;\">Urban</td><td style = \"text-align: left;\">Y</td></tr><tr><td class = \"rowNumber\" style = \"font-weight: bold; text-align: right;\">12</td><td style = \"text-align: left;\">LP001027</td><td style = \"text-align: left;\">Male</td><td style = \"text-align: left;\">Yes</td><td style = \"text-align: left;\">2</td><td style = \"text-align: left;\">Graduate</td><td style = \"font-style: italic; text-align: left;\">missing</td><td style = \"text-align: right;\">2500</td><td style = \"text-align: right;\">1840.0</td><td style = \"text-align: right;\">109</td><td style = \"text-align: right;\">360</td><td style = \"text-align: right;\">1</td><td style = \"text-align: left;\">Urban</td><td style = \"text-align: left;\">Y</td></tr><tr><td class = \"rowNumber\" style = \"font-weight: bold; text-align: right;\">13</td><td style = \"text-align: left;\">LP001028</td><td style = \"text-align: left;\">Male</td><td style = \"text-align: left;\">Yes</td><td style = \"text-align: left;\">2</td><td style = \"text-align: left;\">Graduate</td><td style = \"text-align: left;\">No</td><td style = \"text-align: right;\">3073</td><td style = \"text-align: right;\">8106.0</td><td style = \"text-align: right;\">200</td><td style = \"text-align: right;\">360</td><td style = \"text-align: right;\">1</td><td style = \"text-align: left;\">Urban</td><td style = \"text-align: left;\">Y</td></tr><tr><td style = \"text-align: right;\">&vellip;</td><td style = \"text-align: right;\">&vellip;</td><td style = \"text-align: right;\">&vellip;</td><td style = \"text-align: right;\">&vellip;</td><td style = \"text-align: right;\">&vellip;</td><td style = \"text-align: right;\">&vellip;</td><td style = \"text-align: right;\">&vellip;</td><td style = \"text-align: right;\">&vellip;</td><td style = \"text-align: right;\">&vellip;</td><td style = \"text-align: right;\">&vellip;</td><td style = \"text-align: right;\">&vellip;</td><td style = \"text-align: right;\">&vellip;</td><td style = \"text-align: right;\">&vellip;</td><td style = \"text-align: right;\">&vellip;</td></tr><tr><td class = \"rowNumber\" style = \"font-weight: bold; text-align: right;\">603</td><td style = \"text-align: left;\">LP002953</td><td style = \"text-align: left;\">Male</td><td style = \"text-align: left;\">Yes</td><td style = \"text-align: left;\">3+</td><td style = \"text-align: left;\">Graduate</td><td style = \"text-align: left;\">No</td><td style = \"text-align: right;\">5703</td><td style = \"text-align: right;\">0.0</td><td style = \"text-align: right;\">128</td><td style = \"text-align: right;\">360</td><td style = \"text-align: right;\">1</td><td style = \"text-align: left;\">Urban</td><td style = \"text-align: left;\">Y</td></tr><tr><td class = \"rowNumber\" style = \"font-weight: bold; text-align: right;\">604</td><td style = \"text-align: left;\">LP002958</td><td style = \"text-align: left;\">Male</td><td style = \"text-align: left;\">No</td><td style = \"text-align: left;\">0</td><td style = \"text-align: left;\">Graduate</td><td style = \"text-align: left;\">No</td><td style = \"text-align: right;\">3676</td><td style = \"text-align: right;\">4301.0</td><td style = \"text-align: right;\">172</td><td style = \"text-align: right;\">360</td><td style = \"text-align: right;\">1</td><td style = \"text-align: left;\">Rural</td><td style = \"text-align: left;\">Y</td></tr><tr><td class = \"rowNumber\" style = \"font-weight: bold; text-align: right;\">605</td><td style = \"text-align: left;\">LP002959</td><td style = \"text-align: left;\">Female</td><td style = \"text-align: left;\">Yes</td><td style = \"text-align: left;\">1</td><td style = \"text-align: left;\">Graduate</td><td style = \"text-align: left;\">No</td><td style = \"text-align: right;\">12000</td><td style = \"text-align: right;\">0.0</td><td style = \"text-align: right;\">496</td><td style = \"text-align: right;\">360</td><td style = \"text-align: right;\">1</td><td style = \"text-align: left;\">Semiurban</td><td style = \"text-align: left;\">Y</td></tr><tr><td class = \"rowNumber\" style = \"font-weight: bold; text-align: right;\">606</td><td style = \"text-align: left;\">LP002960</td><td style = \"text-align: left;\">Male</td><td style = \"text-align: left;\">Yes</td><td style = \"text-align: left;\">0</td><td style = \"text-align: left;\">Not Graduate</td><td style = \"text-align: left;\">No</td><td style = \"text-align: right;\">2400</td><td style = \"text-align: right;\">3800.0</td><td style = \"text-align: right;\">missing</td><td style = \"text-align: right;\">180</td><td style = \"font-style: italic; text-align: right;\">1</td><td style = \"text-align: left;\">Urban</td><td style = \"text-align: left;\">N</td></tr><tr><td class = \"rowNumber\" style = \"font-weight: bold; text-align: right;\">607</td><td style = \"text-align: left;\">LP002961</td><td style = \"text-align: left;\">Male</td><td style = \"text-align: left;\">Yes</td><td style = \"text-align: left;\">1</td><td style = \"text-align: left;\">Graduate</td><td style = \"text-align: left;\">No</td><td style = \"text-align: right;\">3400</td><td style = \"text-align: right;\">2500.0</td><td style = \"text-align: right;\">173</td><td style = \"text-align: right;\">360</td><td style = \"text-align: right;\">1</td><td style = \"text-align: left;\">Semiurban</td><td style = \"text-align: left;\">Y</td></tr><tr><td class = \"rowNumber\" style = \"font-weight: bold; text-align: right;\">608</td><td style = \"text-align: left;\">LP002964</td><td style = \"text-align: left;\">Male</td><td style = \"text-align: left;\">Yes</td><td style = \"text-align: left;\">2</td><td style = \"text-align: left;\">Not Graduate</td><td style = \"text-align: left;\">No</td><td style = \"text-align: right;\">3987</td><td style = \"text-align: right;\">1411.0</td><td style = \"text-align: right;\">157</td><td style = \"text-align: right;\">360</td><td style = \"text-align: right;\">1</td><td style = \"text-align: left;\">Rural</td><td style = \"text-align: left;\">Y</td></tr><tr><td class = \"rowNumber\" style = \"font-weight: bold; text-align: right;\">609</td><td style = \"text-align: left;\">LP002974</td><td style = \"text-align: left;\">Male</td><td style = \"text-align: left;\">Yes</td><td style = \"text-align: left;\">0</td><td style = \"text-align: left;\">Graduate</td><td style = \"font-style: italic; text-align: left;\">No</td><td style = \"text-align: right;\">3232</td><td style = \"text-align: right;\">1950.0</td><td style = \"text-align: right;\">108</td><td style = \"font-style: italic; text-align: right;\">360</td><td style = \"text-align: right;\">1</td><td style = \"text-align: left;\">Rural</td><td style = \"text-align: left;\">Y</td></tr><tr><td class = \"rowNumber\" style = \"font-weight: bold; text-align: right;\">610</td><td style = \"text-align: left;\">LP002978</td><td style = \"text-align: left;\">Female</td><td style = \"text-align: left;\">No</td><td style = \"text-align: left;\">0</td><td style = \"text-align: left;\">Graduate</td><td style = \"text-align: left;\">No</td><td style = \"text-align: right;\">2900</td><td style = \"text-align: right;\">0.0</td><td style = \"text-align: right;\">71</td><td style = \"text-align: right;\">360</td><td style = \"text-align: right;\">1</td><td style = \"text-align: left;\">Rural</td><td style = \"text-align: left;\">Y</td></tr><tr><td class = \"rowNumber\" style = \"font-weight: bold; text-align: right;\">611</td><td style = \"text-align: left;\">LP002979</td><td style = \"text-align: left;\">Male</td><td style = \"text-align: left;\">Yes</td><td style = \"text-align: left;\">3+</td><td style = \"text-align: left;\">Graduate</td><td style = \"text-align: left;\">No</td><td style = \"text-align: right;\">4106</td><td style = \"text-align: right;\">0.0</td><td style = \"text-align: right;\">40</td><td style = \"text-align: right;\">180</td><td style = \"text-align: right;\">1</td><td style = \"text-align: left;\">Rural</td><td style = \"text-align: left;\">Y</td></tr><tr><td class = \"rowNumber\" style = \"font-weight: bold; text-align: right;\">612</td><td style = \"text-align: left;\">LP002983</td><td style = \"text-align: left;\">Male</td><td style = \"text-align: left;\">Yes</td><td style = \"text-align: left;\">1</td><td style = \"text-align: left;\">Graduate</td><td style = \"text-align: left;\">No</td><td style = \"text-align: right;\">8072</td><td style = \"text-align: right;\">240.0</td><td style = \"text-align: right;\">253</td><td style = \"text-align: right;\">360</td><td style = \"text-align: right;\">1</td><td style = \"text-align: left;\">Urban</td><td style = \"text-align: left;\">Y</td></tr><tr><td class = \"rowNumber\" style = \"font-weight: bold; text-align: right;\">613</td><td style = \"text-align: left;\">LP002984</td><td style = \"font-style: italic; text-align: left;\">Male</td><td style = \"text-align: left;\">Yes</td><td style = \"text-align: left;\">2</td><td style = \"text-align: left;\">Graduate</td><td style = \"text-align: left;\">No</td><td style = \"text-align: right;\">7583</td><td style = \"text-align: right;\">0.0</td><td style = \"text-align: right;\">187</td><td style = \"text-align: right;\">360</td><td style = \"text-align: right;\">1</td><td style = \"text-align: left;\">Urban</td><td style = \"text-align: left;\">Y</td></tr><tr><td class = \"rowNumber\" style = \"font-weight: bold; text-align: right;\">614</td><td style = \"text-align: left;\">LP002990</td><td style = \"text-align: left;\">Female</td><td style = \"text-align: left;\">No</td><td style = \"text-align: left;\">0</td><td style = \"text-align: left;\">Graduate</td><td style = \"font-style: italic; text-align: left;\">Yes</td><td style = \"text-align: right;\">4583</td><td style = \"text-align: right;\">0.0</td><td style = \"text-align: right;\">133</td><td style = \"text-align: right;\">360</td><td style = \"font-style: italic; text-align: right;\">0</td><td style = \"text-align: left;\">Semiurban</td><td style = \"text-align: left;\">N</td></tr></tbody></table></div>"
      ],
      "text/latex": [
       "\\begin{tabular}{r|cccccccc}\n",
       "\t& Loan\\_ID & Gender & Married & Dependents & Education & Self\\_Employed & ApplicantIncome & \\\\\n",
       "\t\\hline\n",
       "\t& String15 & String7? & String3? & String3? & String15 & String3? & Int64 & \\\\\n",
       "\t\\hline\n",
       "\t1 & LP001002 & Male & No & 0 & Graduate & No & 5849 & $\\dots$ \\\\\n",
       "\t2 & LP001003 & Male & Yes & 1 & Graduate & No & 4583 & $\\dots$ \\\\\n",
       "\t3 & LP001005 & Male & Yes & 0 & Graduate & Yes & 3000 & $\\dots$ \\\\\n",
       "\t4 & LP001006 & Male & Yes & 0 & Not Graduate & No & 2583 & $\\dots$ \\\\\n",
       "\t5 & LP001008 & Male & No & 0 & Graduate & No & 6000 & $\\dots$ \\\\\n",
       "\t6 & LP001011 & Male & Yes & 2 & Graduate & Yes & 5417 & $\\dots$ \\\\\n",
       "\t7 & LP001013 & Male & Yes & 0 & Not Graduate & No & 2333 & $\\dots$ \\\\\n",
       "\t8 & LP001014 & Male & Yes & 3+ & Graduate & No & 3036 & $\\dots$ \\\\\n",
       "\t9 & LP001018 & Male & Yes & 2 & Graduate & No & 4006 & $\\dots$ \\\\\n",
       "\t10 & LP001020 & Male & Yes & 1 & Graduate & No & 12841 & $\\dots$ \\\\\n",
       "\t11 & LP001024 & Male & Yes & 2 & Graduate & No & 3200 & $\\dots$ \\\\\n",
       "\t12 & LP001027 & Male & Yes & 2 & Graduate & \\emph{missing} & 2500 & $\\dots$ \\\\\n",
       "\t13 & LP001028 & Male & Yes & 2 & Graduate & No & 3073 & $\\dots$ \\\\\n",
       "\t14 & LP001029 & Male & No & 0 & Graduate & No & 1853 & $\\dots$ \\\\\n",
       "\t15 & LP001030 & Male & Yes & 2 & Graduate & No & 1299 & $\\dots$ \\\\\n",
       "\t16 & LP001032 & Male & No & 0 & Graduate & No & 4950 & $\\dots$ \\\\\n",
       "\t17 & LP001034 & Male & No & 1 & Not Graduate & No & 3596 & $\\dots$ \\\\\n",
       "\t18 & LP001036 & Female & No & 0 & Graduate & No & 3510 & $\\dots$ \\\\\n",
       "\t19 & LP001038 & Male & Yes & 0 & Not Graduate & No & 4887 & $\\dots$ \\\\\n",
       "\t20 & LP001041 & Male & Yes & 0 & Graduate & \\emph{missing} & 2600 & $\\dots$ \\\\\n",
       "\t21 & LP001043 & Male & Yes & 0 & Not Graduate & No & 7660 & $\\dots$ \\\\\n",
       "\t22 & LP001046 & Male & Yes & 1 & Graduate & No & 5955 & $\\dots$ \\\\\n",
       "\t23 & LP001047 & Male & Yes & 0 & Not Graduate & No & 2600 & $\\dots$ \\\\\n",
       "\t24 & LP001050 & \\emph{missing} & Yes & 2 & Not Graduate & No & 3365 & $\\dots$ \\\\\n",
       "\t25 & LP001052 & Male & Yes & 1 & Graduate & \\emph{missing} & 3717 & $\\dots$ \\\\\n",
       "\t26 & LP001066 & Male & Yes & 0 & Graduate & Yes & 9560 & $\\dots$ \\\\\n",
       "\t27 & LP001068 & Male & Yes & 0 & Graduate & No & 2799 & $\\dots$ \\\\\n",
       "\t28 & LP001073 & Male & Yes & 2 & Not Graduate & No & 4226 & $\\dots$ \\\\\n",
       "\t29 & LP001086 & Male & No & 0 & Not Graduate & No & 1442 & $\\dots$ \\\\\n",
       "\t30 & LP001087 & Female & No & 2 & Graduate & \\emph{missing} & 3750 & $\\dots$ \\\\\n",
       "\t$\\dots$ & $\\dots$ & $\\dots$ & $\\dots$ & $\\dots$ & $\\dots$ & $\\dots$ & $\\dots$ &  \\\\\n",
       "\\end{tabular}\n"
      ],
      "text/plain": [
       "\u001b[1m614×13 DataFrame\u001b[0m\n",
       "\u001b[1m Row \u001b[0m│\u001b[1m Loan_ID  \u001b[0m\u001b[1m Gender   \u001b[0m\u001b[1m Married  \u001b[0m\u001b[1m Dependents \u001b[0m\u001b[1m Education    \u001b[0m\u001b[1m Self_Employed \u001b[0m\u001b[1m \u001b[0m ⋯\n",
       "     │\u001b[90m String15 \u001b[0m\u001b[90m String7? \u001b[0m\u001b[90m String3? \u001b[0m\u001b[90m String3?   \u001b[0m\u001b[90m String15     \u001b[0m\u001b[90m String3?      \u001b[0m\u001b[90m \u001b[0m ⋯\n",
       "─────┼──────────────────────────────────────────────────────────────────────────\n",
       "   1 │ LP001002  Male      No        0           Graduate      No              ⋯\n",
       "   2 │ LP001003  Male      Yes       1           Graduate      No\n",
       "   3 │ LP001005  Male      Yes       0           Graduate      Yes\n",
       "   4 │ LP001006  Male      Yes       0           Not Graduate  No\n",
       "   5 │ LP001008  Male      No        0           Graduate      No              ⋯\n",
       "   6 │ LP001011  Male      Yes       2           Graduate      Yes\n",
       "   7 │ LP001013  Male      Yes       0           Not Graduate  No\n",
       "   8 │ LP001014  Male      Yes       3+          Graduate      No\n",
       "   9 │ LP001018  Male      Yes       2           Graduate      No              ⋯\n",
       "  10 │ LP001020  Male      Yes       1           Graduate      No\n",
       "  11 │ LP001024  Male      Yes       2           Graduate      No\n",
       "  ⋮  │    ⋮         ⋮         ⋮          ⋮            ⋮              ⋮         ⋱\n",
       " 605 │ LP002959  Female    Yes       1           Graduate      No\n",
       " 606 │ LP002960  Male      Yes       0           Not Graduate  No              ⋯\n",
       " 607 │ LP002961  Male      Yes       1           Graduate      No\n",
       " 608 │ LP002964  Male      Yes       2           Not Graduate  No\n",
       " 609 │ LP002974  Male      Yes       0           Graduate      No\n",
       " 610 │ LP002978  Female    No        0           Graduate      No              ⋯\n",
       " 611 │ LP002979  Male      Yes       3+          Graduate      No\n",
       " 612 │ LP002983  Male      Yes       1           Graduate      No\n",
       " 613 │ LP002984  Male      Yes       2           Graduate      No\n",
       " 614 │ LP002990  Female    No        0           Graduate      Yes             ⋯\n",
       "\u001b[36m                                                  7 columns and 593 rows omitted\u001b[0m"
      ]
     },
     "execution_count": 3,
     "metadata": {},
     "output_type": "execute_result"
    }
   ],
   "source": [
    "train=CSV.read(\"loan.csv\",DataFrame,normalizenames=true)"
   ]
  },
  {
   "cell_type": "code",
   "execution_count": 4,
   "id": "d2ed3040",
   "metadata": {},
   "outputs": [
    {
     "data": {
      "text/html": [
       "<div><div style = \"float: left;\"><span>13×7 DataFrame</span></div><div style = \"clear: both;\"></div></div><div class = \"data-frame\" style = \"overflow-x: scroll;\"><table class = \"data-frame\" style = \"margin-bottom: 6px;\"><thead><tr class = \"header\"><th class = \"rowNumber\" style = \"font-weight: bold; text-align: right;\">Row</th><th style = \"text-align: left;\">variable</th><th style = \"text-align: left;\">mean</th><th style = \"text-align: left;\">min</th><th style = \"text-align: left;\">median</th><th style = \"text-align: left;\">max</th><th style = \"text-align: left;\">nmissing</th><th style = \"text-align: left;\">eltype</th></tr><tr class = \"subheader headerLastRow\"><th class = \"rowNumber\" style = \"font-weight: bold; text-align: right;\"></th><th title = \"Symbol\" style = \"text-align: left;\">Symbol</th><th title = \"Union{Nothing, Float64}\" style = \"text-align: left;\">Union…</th><th title = \"Any\" style = \"text-align: left;\">Any</th><th title = \"Union{Nothing, Float64}\" style = \"text-align: left;\">Union…</th><th title = \"Any\" style = \"text-align: left;\">Any</th><th title = \"Int64\" style = \"text-align: left;\">Int64</th><th title = \"Type\" style = \"text-align: left;\">Type</th></tr></thead><tbody><tr><td class = \"rowNumber\" style = \"font-weight: bold; text-align: right;\">1</td><td style = \"text-align: left;\">Loan_ID</td><td style = \"font-style: italic; text-align: left;\"></td><td style = \"text-align: left;\">LP001002</td><td style = \"font-style: italic; text-align: left;\"></td><td style = \"text-align: left;\">LP002990</td><td style = \"text-align: right;\">0</td><td style = \"text-align: left;\">String15</td></tr><tr><td class = \"rowNumber\" style = \"font-weight: bold; text-align: right;\">2</td><td style = \"text-align: left;\">Gender</td><td style = \"font-style: italic; text-align: left;\"></td><td style = \"text-align: left;\">Female</td><td style = \"font-style: italic; text-align: left;\"></td><td style = \"text-align: left;\">Male</td><td style = \"text-align: right;\">13</td><td style = \"text-align: left;\">Union{Missing, String7}</td></tr><tr><td class = \"rowNumber\" style = \"font-weight: bold; text-align: right;\">3</td><td style = \"text-align: left;\">Married</td><td style = \"font-style: italic; text-align: left;\"></td><td style = \"text-align: left;\">No</td><td style = \"font-style: italic; text-align: left;\"></td><td style = \"text-align: left;\">Yes</td><td style = \"text-align: right;\">3</td><td style = \"text-align: left;\">Union{Missing, String3}</td></tr><tr><td class = \"rowNumber\" style = \"font-weight: bold; text-align: right;\">4</td><td style = \"text-align: left;\">Dependents</td><td style = \"font-style: italic; text-align: left;\"></td><td style = \"text-align: left;\">0</td><td style = \"font-style: italic; text-align: left;\"></td><td style = \"text-align: left;\">3+</td><td style = \"text-align: right;\">15</td><td style = \"text-align: left;\">Union{Missing, String3}</td></tr><tr><td class = \"rowNumber\" style = \"font-weight: bold; text-align: right;\">5</td><td style = \"text-align: left;\">Education</td><td style = \"font-style: italic; text-align: left;\"></td><td style = \"text-align: left;\">Graduate</td><td style = \"font-style: italic; text-align: left;\"></td><td style = \"text-align: left;\">Not Graduate</td><td style = \"text-align: right;\">0</td><td style = \"text-align: left;\">String15</td></tr><tr><td class = \"rowNumber\" style = \"font-weight: bold; text-align: right;\">6</td><td style = \"text-align: left;\">Self_Employed</td><td style = \"font-style: italic; text-align: left;\"></td><td style = \"text-align: left;\">No</td><td style = \"font-style: italic; text-align: left;\"></td><td style = \"text-align: left;\">Yes</td><td style = \"text-align: right;\">32</td><td style = \"text-align: left;\">Union{Missing, String3}</td></tr><tr><td class = \"rowNumber\" style = \"font-weight: bold; text-align: right;\">7</td><td style = \"text-align: left;\">ApplicantIncome</td><td style = \"text-align: left;\">5403.46</td><td style = \"text-align: left;\">150</td><td style = \"text-align: left;\">3812.5</td><td style = \"text-align: left;\">81000</td><td style = \"text-align: right;\">0</td><td style = \"text-align: left;\">Int64</td></tr><tr><td class = \"rowNumber\" style = \"font-weight: bold; text-align: right;\">8</td><td style = \"text-align: left;\">CoapplicantIncome</td><td style = \"text-align: left;\">1621.25</td><td style = \"text-align: left;\">0.0</td><td style = \"text-align: left;\">1188.5</td><td style = \"text-align: left;\">41667.0</td><td style = \"text-align: right;\">0</td><td style = \"text-align: left;\">Float64</td></tr><tr><td class = \"rowNumber\" style = \"font-weight: bold; text-align: right;\">9</td><td style = \"text-align: left;\">LoanAmount</td><td style = \"text-align: left;\">146.412</td><td style = \"text-align: left;\">9</td><td style = \"text-align: left;\">128.0</td><td style = \"text-align: left;\">700</td><td style = \"text-align: right;\">22</td><td style = \"text-align: left;\">Union{Missing, Int64}</td></tr><tr><td class = \"rowNumber\" style = \"font-weight: bold; text-align: right;\">10</td><td style = \"text-align: left;\">Loan_Amount_Term</td><td style = \"text-align: left;\">342.0</td><td style = \"text-align: left;\">12</td><td style = \"text-align: left;\">360.0</td><td style = \"text-align: left;\">480</td><td style = \"text-align: right;\">14</td><td style = \"text-align: left;\">Union{Missing, Int64}</td></tr><tr><td class = \"rowNumber\" style = \"font-weight: bold; text-align: right;\">11</td><td style = \"text-align: left;\">Credit_History</td><td style = \"text-align: left;\">0.842199</td><td style = \"text-align: left;\">0</td><td style = \"text-align: left;\">1.0</td><td style = \"text-align: left;\">1</td><td style = \"text-align: right;\">50</td><td style = \"text-align: left;\">Union{Missing, Int64}</td></tr><tr><td class = \"rowNumber\" style = \"font-weight: bold; text-align: right;\">12</td><td style = \"text-align: left;\">Property_Area</td><td style = \"font-style: italic; text-align: left;\"></td><td style = \"text-align: left;\">Rural</td><td style = \"font-style: italic; text-align: left;\"></td><td style = \"text-align: left;\">Urban</td><td style = \"text-align: right;\">0</td><td style = \"text-align: left;\">String15</td></tr><tr><td class = \"rowNumber\" style = \"font-weight: bold; text-align: right;\">13</td><td style = \"text-align: left;\">Loan_Status</td><td style = \"font-style: italic; text-align: left;\"></td><td style = \"text-align: left;\">N</td><td style = \"font-style: italic; text-align: left;\"></td><td style = \"text-align: left;\">Y</td><td style = \"text-align: right;\">0</td><td style = \"text-align: left;\">String1</td></tr></tbody></table></div>"
      ],
      "text/latex": [
       "\\begin{tabular}{r|ccccccc}\n",
       "\t& variable & mean & min & median & max & nmissing & eltype\\\\\n",
       "\t\\hline\n",
       "\t& Symbol & Union… & Any & Union… & Any & Int64 & Type\\\\\n",
       "\t\\hline\n",
       "\t1 & Loan\\_ID &  & LP001002 &  & LP002990 & 0 & String15 \\\\\n",
       "\t2 & Gender &  & Female &  & Male & 13 & Union\\{Missing, String7\\} \\\\\n",
       "\t3 & Married &  & No &  & Yes & 3 & Union\\{Missing, String3\\} \\\\\n",
       "\t4 & Dependents &  & 0 &  & 3+ & 15 & Union\\{Missing, String3\\} \\\\\n",
       "\t5 & Education &  & Graduate &  & Not Graduate & 0 & String15 \\\\\n",
       "\t6 & Self\\_Employed &  & No &  & Yes & 32 & Union\\{Missing, String3\\} \\\\\n",
       "\t7 & ApplicantIncome & 5403.46 & 150 & 3812.5 & 81000 & 0 & Int64 \\\\\n",
       "\t8 & CoapplicantIncome & 1621.25 & 0.0 & 1188.5 & 41667.0 & 0 & Float64 \\\\\n",
       "\t9 & LoanAmount & 146.412 & 9 & 128.0 & 700 & 22 & Union\\{Missing, Int64\\} \\\\\n",
       "\t10 & Loan\\_Amount\\_Term & 342.0 & 12 & 360.0 & 480 & 14 & Union\\{Missing, Int64\\} \\\\\n",
       "\t11 & Credit\\_History & 0.842199 & 0 & 1.0 & 1 & 50 & Union\\{Missing, Int64\\} \\\\\n",
       "\t12 & Property\\_Area &  & Rural &  & Urban & 0 & String15 \\\\\n",
       "\t13 & Loan\\_Status &  & N &  & Y & 0 & String1 \\\\\n",
       "\\end{tabular}\n"
      ],
      "text/plain": [
       "\u001b[1m13×7 DataFrame\u001b[0m\n",
       "\u001b[1m Row \u001b[0m│\u001b[1m variable          \u001b[0m\u001b[1m mean     \u001b[0m\u001b[1m min      \u001b[0m\u001b[1m median \u001b[0m\u001b[1m max          \u001b[0m\u001b[1m nmissing \u001b[0m\u001b[1m \u001b[0m ⋯\n",
       "     │\u001b[90m Symbol            \u001b[0m\u001b[90m Union…   \u001b[0m\u001b[90m Any      \u001b[0m\u001b[90m Union… \u001b[0m\u001b[90m Any          \u001b[0m\u001b[90m Int64    \u001b[0m\u001b[90m \u001b[0m ⋯\n",
       "─────┼──────────────────────────────────────────────────────────────────────────\n",
       "   1 │ Loan_ID           \u001b[90m          \u001b[0m LP001002 \u001b[90m        \u001b[0m LP002990             0   ⋯\n",
       "   2 │ Gender            \u001b[90m          \u001b[0m Female   \u001b[90m        \u001b[0m Male                13\n",
       "   3 │ Married           \u001b[90m          \u001b[0m No       \u001b[90m        \u001b[0m Yes                  3\n",
       "   4 │ Dependents        \u001b[90m          \u001b[0m 0        \u001b[90m        \u001b[0m 3+                  15\n",
       "   5 │ Education         \u001b[90m          \u001b[0m Graduate \u001b[90m        \u001b[0m Not Graduate         0   ⋯\n",
       "   6 │ Self_Employed     \u001b[90m          \u001b[0m No       \u001b[90m        \u001b[0m Yes                 32\n",
       "   7 │ ApplicantIncome    5403.46   150       3812.5  81000                0\n",
       "   8 │ CoapplicantIncome  1621.25   0.0       1188.5  41667.0              0\n",
       "   9 │ LoanAmount         146.412   9         128.0   700                 22   ⋯\n",
       "  10 │ Loan_Amount_Term   342.0     12        360.0   480                 14\n",
       "  11 │ Credit_History     0.842199  0         1.0     1                   50\n",
       "  12 │ Property_Area     \u001b[90m          \u001b[0m Rural    \u001b[90m        \u001b[0m Urban                0\n",
       "  13 │ Loan_Status       \u001b[90m          \u001b[0m N        \u001b[90m        \u001b[0m Y                    0   ⋯\n",
       "\u001b[36m                                                                1 column omitted\u001b[0m"
      ]
     },
     "execution_count": 4,
     "metadata": {},
     "output_type": "execute_result"
    }
   ],
   "source": [
    "describe(train)"
   ]
  },
  {
   "cell_type": "code",
   "execution_count": 5,
   "id": "bb627273",
   "metadata": {},
   "outputs": [
    {
     "name": "stderr",
     "output_type": "stream",
     "text": [
      "\u001b[32m\u001b[1m    Updating\u001b[22m\u001b[39m registry at `C:\\Users\\kulde\\.julia\\registries\\General.toml`\n",
      "\u001b[32m\u001b[1m   Resolving\u001b[22m\u001b[39m package versions...\n",
      "\u001b[32m\u001b[1m    Updating\u001b[22m\u001b[39m `C:\\Users\\kulde\\.julia\\environments\\v1.8\\Project.toml`\n",
      " \u001b[90m [2913bbd2] \u001b[39m\u001b[92m+ StatsBase v0.33.21\u001b[39m\n",
      "\u001b[32m\u001b[1m  No Changes\u001b[22m\u001b[39m to `C:\\Users\\kulde\\.julia\\environments\\v1.8\\Manifest.toml`\n"
     ]
    }
   ],
   "source": [
    "using Pkg\n",
    "Pkg.add(\"StatsBase\")"
   ]
  },
  {
   "cell_type": "code",
   "execution_count": 9,
   "id": "a3bf0f61",
   "metadata": {},
   "outputs": [
    {
     "data": {
      "text/plain": [
       "614-element Vector{Real}:\n",
       " 146.0\n",
       " 128\n",
       "  66\n",
       " 120\n",
       " 141\n",
       " 267\n",
       "  95\n",
       " 158\n",
       " 168\n",
       " 349\n",
       "  70\n",
       " 109\n",
       " 200\n",
       "   ⋮\n",
       " 128\n",
       " 172\n",
       " 496\n",
       " 146.0\n",
       " 173\n",
       " 157\n",
       " 108\n",
       "  71\n",
       "  40\n",
       " 253\n",
       " 187\n",
       " 133"
      ]
     },
     "execution_count": 9,
     "metadata": {},
     "output_type": "execute_result"
    }
   ],
   "source": [
    "using StatsBase\n",
    "train[!,\"LoanAmount\"]=[item===missing ? floor(mean(skipmissing(train[!,\"LoanAmount\"]))) : item \n",
    "    for item in train[!,\"LoanAmount\"]]"
   ]
  },
  {
   "cell_type": "code",
   "execution_count": 11,
   "id": "a29e40f3",
   "metadata": {},
   "outputs": [
    {
     "data": {
      "text/plain": [
       "614-element Vector{Real}:\n",
       " 146.0\n",
       " 128\n",
       "  66\n",
       " 120\n",
       " 141\n",
       " 267\n",
       "  95\n",
       " 158\n",
       " 168\n",
       " 349\n",
       "  70\n",
       " 109\n",
       " 200\n",
       "   ⋮\n",
       " 128\n",
       " 172\n",
       " 496\n",
       " 146.0\n",
       " 173\n",
       " 157\n",
       " 108\n",
       "  71\n",
       "  40\n",
       " 253\n",
       " 187\n",
       " 133"
      ]
     },
     "execution_count": 11,
     "metadata": {},
     "output_type": "execute_result"
    }
   ],
   "source": [
    "train[!,\"LoanAmount\"]=[item===0.0 ? floor(mean(skipmissing(train[!,\"LoanAmount\"]))) : item \n",
    "    for item in train[!,\"LoanAmount\"]]\n"
   ]
  },
  {
   "cell_type": "code",
   "execution_count": 12,
   "id": "d88c0fd8",
   "metadata": {},
   "outputs": [
    {
     "data": {
      "text/plain": [
       "614-element Vector{String7}:\n",
       " \"Male\"\n",
       " \"Male\"\n",
       " \"Male\"\n",
       " \"Male\"\n",
       " \"Male\"\n",
       " \"Male\"\n",
       " \"Male\"\n",
       " \"Male\"\n",
       " \"Male\"\n",
       " \"Male\"\n",
       " \"Male\"\n",
       " \"Male\"\n",
       " \"Male\"\n",
       " ⋮\n",
       " \"Male\"\n",
       " \"Male\"\n",
       " \"Female\"\n",
       " \"Male\"\n",
       " \"Male\"\n",
       " \"Male\"\n",
       " \"Male\"\n",
       " \"Female\"\n",
       " \"Male\"\n",
       " \"Male\"\n",
       " \"Male\"\n",
       " \"Female\""
      ]
     },
     "execution_count": 12,
     "metadata": {},
     "output_type": "execute_result"
    }
   ],
   "source": [
    "train[!,\"Gender\"]=[ismissing(item) ? mode(skipmissing(train[!,\"Gender\"])) : item\n",
    " for item in train[!,\"Gender\"]]"
   ]
  },
  {
   "cell_type": "code",
   "execution_count": 13,
   "id": "1cb4c09f",
   "metadata": {},
   "outputs": [
    {
     "data": {
      "text/plain": [
       "614-element Vector{String3}:\n",
       " \"No\"\n",
       " \"Yes\"\n",
       " \"Yes\"\n",
       " \"Yes\"\n",
       " \"No\"\n",
       " \"Yes\"\n",
       " \"Yes\"\n",
       " \"Yes\"\n",
       " \"Yes\"\n",
       " \"Yes\"\n",
       " \"Yes\"\n",
       " \"Yes\"\n",
       " \"Yes\"\n",
       " ⋮\n",
       " \"Yes\"\n",
       " \"No\"\n",
       " \"Yes\"\n",
       " \"Yes\"\n",
       " \"Yes\"\n",
       " \"Yes\"\n",
       " \"Yes\"\n",
       " \"No\"\n",
       " \"Yes\"\n",
       " \"Yes\"\n",
       " \"Yes\"\n",
       " \"No\""
      ]
     },
     "execution_count": 13,
     "metadata": {},
     "output_type": "execute_result"
    }
   ],
   "source": [
    "train[!,\"Married\"]=[ismissing(item) ? mode(skipmissing(train[!,\"Married\"])) : item\n",
    " for item in train[!,\"Married\"]]"
   ]
  },
  {
   "cell_type": "code",
   "execution_count": 16,
   "id": "8dbea3c0",
   "metadata": {},
   "outputs": [
    {
     "data": {
      "text/plain": [
       "614-element Vector{String3}:\n",
       " \"0\"\n",
       " \"1\"\n",
       " \"0\"\n",
       " \"0\"\n",
       " \"0\"\n",
       " \"2\"\n",
       " \"0\"\n",
       " \"3+\"\n",
       " \"2\"\n",
       " \"1\"\n",
       " \"2\"\n",
       " \"2\"\n",
       " \"2\"\n",
       " ⋮\n",
       " \"3+\"\n",
       " \"0\"\n",
       " \"1\"\n",
       " \"0\"\n",
       " \"1\"\n",
       " \"2\"\n",
       " \"0\"\n",
       " \"0\"\n",
       " \"3+\"\n",
       " \"1\"\n",
       " \"2\"\n",
       " \"0\""
      ]
     },
     "execution_count": 16,
     "metadata": {},
     "output_type": "execute_result"
    }
   ],
   "source": [
    "train[!,\"Dependents\"]=[ismissing(item) ? mode(skipmissing(train[!,\"Dependents\"])) : item \n",
    "    for item in train[!,\"Dependents\"]]"
   ]
  },
  {
   "cell_type": "code",
   "execution_count": 17,
   "id": "444d7829",
   "metadata": {},
   "outputs": [
    {
     "data": {
      "text/plain": [
       "614-element Vector{String3}:\n",
       " \"No\"\n",
       " \"No\"\n",
       " \"Yes\"\n",
       " \"No\"\n",
       " \"No\"\n",
       " \"Yes\"\n",
       " \"No\"\n",
       " \"No\"\n",
       " \"No\"\n",
       " \"No\"\n",
       " \"No\"\n",
       " \"No\"\n",
       " \"No\"\n",
       " ⋮\n",
       " \"No\"\n",
       " \"No\"\n",
       " \"No\"\n",
       " \"No\"\n",
       " \"No\"\n",
       " \"No\"\n",
       " \"No\"\n",
       " \"No\"\n",
       " \"No\"\n",
       " \"No\"\n",
       " \"No\"\n",
       " \"Yes\""
      ]
     },
     "execution_count": 17,
     "metadata": {},
     "output_type": "execute_result"
    }
   ],
   "source": [
    "train[!,\"Self_Employed\"]=[ismissing(item) ? mode(skipmissing(train[!,\"Self_Employed\"])) : item \n",
    "    for item in train[!,\"Self_Employed\"]]"
   ]
  },
  {
   "cell_type": "code",
   "execution_count": 18,
   "id": "765553a3",
   "metadata": {},
   "outputs": [
    {
     "data": {
      "text/plain": [
       "614-element Vector{Int64}:\n",
       " 360\n",
       " 360\n",
       " 360\n",
       " 360\n",
       " 360\n",
       " 360\n",
       " 360\n",
       " 360\n",
       " 360\n",
       " 360\n",
       " 360\n",
       " 360\n",
       " 360\n",
       "   ⋮\n",
       " 360\n",
       " 360\n",
       " 360\n",
       " 180\n",
       " 360\n",
       " 360\n",
       " 360\n",
       " 360\n",
       " 180\n",
       " 360\n",
       " 360\n",
       " 360"
      ]
     },
     "execution_count": 18,
     "metadata": {},
     "output_type": "execute_result"
    }
   ],
   "source": [
    "train[!,\"Loan_Amount_Term\"]=[ismissing(item) ? mode(skipmissing(train[!,\"Loan_Amount_Term\"])) : item \n",
    "    for item in train[!,\"Loan_Amount_Term\"]]"
   ]
  },
  {
   "cell_type": "code",
   "execution_count": 19,
   "id": "67d4de3c",
   "metadata": {},
   "outputs": [
    {
     "data": {
      "text/plain": [
       "614-element Vector{Int64}:\n",
       " 1\n",
       " 1\n",
       " 1\n",
       " 1\n",
       " 1\n",
       " 1\n",
       " 1\n",
       " 0\n",
       " 1\n",
       " 1\n",
       " 1\n",
       " 1\n",
       " 1\n",
       " ⋮\n",
       " 1\n",
       " 1\n",
       " 1\n",
       " 1\n",
       " 1\n",
       " 1\n",
       " 1\n",
       " 1\n",
       " 1\n",
       " 1\n",
       " 1\n",
       " 0"
      ]
     },
     "execution_count": 19,
     "metadata": {},
     "output_type": "execute_result"
    }
   ],
   "source": [
    " train[!,\"Credit_History\"]=[ismissing(item) ? mode(skipmissing(train[!,\"Credit_History\"])) : item \n",
    "    for item in train[!,\"Credit_History\"]]"
   ]
  },
  {
   "cell_type": "code",
   "execution_count": 20,
   "id": "05d78566",
   "metadata": {},
   "outputs": [
    {
     "name": "stderr",
     "output_type": "stream",
     "text": [
      "\u001b[32m\u001b[1m   Resolving\u001b[22m\u001b[39m package versions...\n",
      "\u001b[32m\u001b[1m   Installed\u001b[22m\u001b[39m ScikitLearnBase ─ v0.5.0\n",
      "\u001b[32m\u001b[1m   Installed\u001b[22m\u001b[39m ScikitLearn ───── v0.6.5\n",
      "\u001b[32m\u001b[1m    Updating\u001b[22m\u001b[39m `C:\\Users\\kulde\\.julia\\environments\\v1.8\\Project.toml`\n",
      " \u001b[90m [3646fa90] \u001b[39m\u001b[92m+ ScikitLearn v0.6.5\u001b[39m\n",
      "\u001b[32m\u001b[1m    Updating\u001b[22m\u001b[39m `C:\\Users\\kulde\\.julia\\environments\\v1.8\\Manifest.toml`\n",
      " \u001b[90m [3646fa90] \u001b[39m\u001b[92m+ ScikitLearn v0.6.5\u001b[39m\n",
      " \u001b[90m [6e75b9c4] \u001b[39m\u001b[92m+ ScikitLearnBase v0.5.0\u001b[39m\n",
      "\u001b[32m\u001b[1mPrecompiling\u001b[22m\u001b[39m project...\n",
      "\u001b[32m  ✓ \u001b[39m\u001b[90mScikitLearnBase\u001b[39m\n",
      "\u001b[32m  ✓ \u001b[39mScikitLearn\n",
      "  2 dependencies successfully precompiled in 13 seconds. 215 already precompiled.\n"
     ]
    }
   ],
   "source": [
    "Pkg.add(\"ScikitLearn\")"
   ]
  },
  {
   "cell_type": "code",
   "execution_count": 21,
   "id": "90111d4a",
   "metadata": {},
   "outputs": [
    {
     "name": "stderr",
     "output_type": "stream",
     "text": [
      "┌ Info: Installing sklearn via the Conda scikit-learn package...\n",
      "└ @ PyCall C:\\Users\\kulde\\.julia\\packages\\PyCall\\ygXW2\\src\\PyCall.jl:719\n",
      "┌ Info: Running `conda install -y scikit-learn` in root environment\n",
      "└ @ Conda C:\\Users\\kulde\\.julia\\packages\\Conda\\x2UxR\\src\\Conda.jl:127\n"
     ]
    },
    {
     "name": "stdout",
     "output_type": "stream",
     "text": [
      "Collecting package metadata (current_repodata.json): ...working... done\n",
      "Solving environment: ...working... done\n",
      "\n",
      "## Package Plan ##\n",
      "\n",
      "  environment location: C:\\Users\\kulde\\.julia\\conda\\3\n",
      "\n",
      "  added / updated specs:\n",
      "    - scikit-learn\n",
      "\n",
      "\n",
      "The following packages will be downloaded:\n",
      "\n",
      "    package                    |            build\n",
      "    ---------------------------|-----------------\n",
      "    joblib-1.2.0               |     pyhd8ed1ab_0         205 KB  conda-forge\n",
      "    scikit-learn-1.1.3         |  py310had3394f_1         7.6 MB  conda-forge\n",
      "    scipy-1.9.3                |  py310h578b7cb_2        28.2 MB  conda-forge\n",
      "    threadpoolctl-3.1.0        |     pyh8a188c0_0          18 KB  conda-forge\n",
      "    ------------------------------------------------------------\n",
      "                                           Total:        36.0 MB\n",
      "\n",
      "The following NEW packages will be INSTALLED:\n",
      "\n",
      "  joblib             conda-forge/noarch::joblib-1.2.0-pyhd8ed1ab_0 None\n",
      "  scikit-learn       conda-forge/win-64::scikit-learn-1.1.3-py310had3394f_1 None\n",
      "  scipy              conda-forge/win-64::scipy-1.9.3-py310h578b7cb_2 None\n",
      "  threadpoolctl      conda-forge/noarch::threadpoolctl-3.1.0-pyh8a188c0_0 None\n",
      "\n",
      "\n",
      "\n",
      "Downloading and Extracting Packages\n",
      "scikit-learn-1.1.3   | 7.6 MB    | ########## | 100% \n",
      "joblib-1.2.0         | 205 KB    | ########## | 100% \n",
      "threadpoolctl-3.1.0  | 18 KB     | ########## | 100% \n",
      "scipy-1.9.3          | 28.2 MB   | ########## | 100% \n",
      "Preparing transaction: ...working... done\n",
      "Verifying transaction: ...working... done\n",
      "Executing transaction: ...working... done\n",
      "Retrieving notices: ...working... done\n"
     ]
    },
    {
     "data": {
      "text/plain": [
       "1×7 Matrix{Int64}:\n",
       " 2  3  4  5  6  12  13"
      ]
     },
     "execution_count": 21,
     "metadata": {},
     "output_type": "execute_result"
    }
   ],
   "source": [
    "using ScikitLearn\n",
    "@sk_import preprocessing: LabelEncoder\n",
    "labelencoder = LabelEncoder()\n",
    "categories = [2 3 4 5 6 12 13]"
   ]
  },
  {
   "cell_type": "code",
   "execution_count": 22,
   "id": "1a98de4a",
   "metadata": {},
   "outputs": [],
   "source": [
    "for col in categories\n",
    " train[!,col] = fit_transform!(labelencoder, train[!,col])\n",
    "end"
   ]
  },
  {
   "cell_type": "code",
   "execution_count": 23,
   "id": "aef6714f",
   "metadata": {},
   "outputs": [
    {
     "data": {
      "text/html": [
       "<div><div style = \"float: left;\"><span>614×13 DataFrame</span></div><div style = \"float: right;\"><span style = \"font-style: italic;\">589 rows omitted</span></div><div style = \"clear: both;\"></div></div><div class = \"data-frame\" style = \"overflow-x: scroll;\"><table class = \"data-frame\" style = \"margin-bottom: 6px;\"><thead><tr class = \"header\"><th class = \"rowNumber\" style = \"font-weight: bold; text-align: right;\">Row</th><th style = \"text-align: left;\">Loan_ID</th><th style = \"text-align: left;\">Gender</th><th style = \"text-align: left;\">Married</th><th style = \"text-align: left;\">Dependents</th><th style = \"text-align: left;\">Education</th><th style = \"text-align: left;\">Self_Employed</th><th style = \"text-align: left;\">ApplicantIncome</th><th style = \"text-align: left;\">CoapplicantIncome</th><th style = \"text-align: left;\">LoanAmount</th><th style = \"text-align: left;\">Loan_Amount_Term</th><th style = \"text-align: left;\">Credit_History</th><th style = \"text-align: left;\">Property_Area</th><th style = \"text-align: left;\">Loan_Status</th></tr><tr class = \"subheader headerLastRow\"><th class = \"rowNumber\" style = \"font-weight: bold; text-align: right;\"></th><th title = \"String15\" style = \"text-align: left;\">String15</th><th title = \"Int64\" style = \"text-align: left;\">Int64</th><th title = \"Int64\" style = \"text-align: left;\">Int64</th><th title = \"Int64\" style = \"text-align: left;\">Int64</th><th title = \"Int64\" style = \"text-align: left;\">Int64</th><th title = \"Int64\" style = \"text-align: left;\">Int64</th><th title = \"Int64\" style = \"text-align: left;\">Int64</th><th title = \"Float64\" style = \"text-align: left;\">Float64</th><th title = \"Real\" style = \"text-align: left;\">Real</th><th title = \"Int64\" style = \"text-align: left;\">Int64</th><th title = \"Int64\" style = \"text-align: left;\">Int64</th><th title = \"Int64\" style = \"text-align: left;\">Int64</th><th title = \"Int64\" style = \"text-align: left;\">Int64</th></tr></thead><tbody><tr><td class = \"rowNumber\" style = \"font-weight: bold; text-align: right;\">1</td><td style = \"text-align: left;\">LP001002</td><td style = \"text-align: right;\">1</td><td style = \"text-align: right;\">0</td><td style = \"text-align: right;\">0</td><td style = \"text-align: right;\">0</td><td style = \"text-align: right;\">0</td><td style = \"text-align: right;\">5849</td><td style = \"text-align: right;\">0.0</td><td style = \"text-align: right;\">146.0</td><td style = \"text-align: right;\">360</td><td style = \"text-align: right;\">1</td><td style = \"text-align: right;\">2</td><td style = \"text-align: right;\">1</td></tr><tr><td class = \"rowNumber\" style = \"font-weight: bold; text-align: right;\">2</td><td style = \"text-align: left;\">LP001003</td><td style = \"text-align: right;\">1</td><td style = \"text-align: right;\">1</td><td style = \"text-align: right;\">1</td><td style = \"text-align: right;\">0</td><td style = \"text-align: right;\">0</td><td style = \"text-align: right;\">4583</td><td style = \"text-align: right;\">1508.0</td><td style = \"text-align: right;\">128</td><td style = \"text-align: right;\">360</td><td style = \"text-align: right;\">1</td><td style = \"text-align: right;\">0</td><td style = \"text-align: right;\">0</td></tr><tr><td class = \"rowNumber\" style = \"font-weight: bold; text-align: right;\">3</td><td style = \"text-align: left;\">LP001005</td><td style = \"text-align: right;\">1</td><td style = \"text-align: right;\">1</td><td style = \"text-align: right;\">0</td><td style = \"text-align: right;\">0</td><td style = \"text-align: right;\">1</td><td style = \"text-align: right;\">3000</td><td style = \"text-align: right;\">0.0</td><td style = \"text-align: right;\">66</td><td style = \"text-align: right;\">360</td><td style = \"text-align: right;\">1</td><td style = \"text-align: right;\">2</td><td style = \"text-align: right;\">1</td></tr><tr><td class = \"rowNumber\" style = \"font-weight: bold; text-align: right;\">4</td><td style = \"text-align: left;\">LP001006</td><td style = \"text-align: right;\">1</td><td style = \"text-align: right;\">1</td><td style = \"text-align: right;\">0</td><td style = \"text-align: right;\">1</td><td style = \"text-align: right;\">0</td><td style = \"text-align: right;\">2583</td><td style = \"text-align: right;\">2358.0</td><td style = \"text-align: right;\">120</td><td style = \"text-align: right;\">360</td><td style = \"text-align: right;\">1</td><td style = \"text-align: right;\">2</td><td style = \"text-align: right;\">1</td></tr><tr><td class = \"rowNumber\" style = \"font-weight: bold; text-align: right;\">5</td><td style = \"text-align: left;\">LP001008</td><td style = \"text-align: right;\">1</td><td style = \"text-align: right;\">0</td><td style = \"text-align: right;\">0</td><td style = \"text-align: right;\">0</td><td style = \"text-align: right;\">0</td><td style = \"text-align: right;\">6000</td><td style = \"text-align: right;\">0.0</td><td style = \"text-align: right;\">141</td><td style = \"text-align: right;\">360</td><td style = \"text-align: right;\">1</td><td style = \"text-align: right;\">2</td><td style = \"text-align: right;\">1</td></tr><tr><td class = \"rowNumber\" style = \"font-weight: bold; text-align: right;\">6</td><td style = \"text-align: left;\">LP001011</td><td style = \"text-align: right;\">1</td><td style = \"text-align: right;\">1</td><td style = \"text-align: right;\">2</td><td style = \"text-align: right;\">0</td><td style = \"text-align: right;\">1</td><td style = \"text-align: right;\">5417</td><td style = \"text-align: right;\">4196.0</td><td style = \"text-align: right;\">267</td><td style = \"text-align: right;\">360</td><td style = \"text-align: right;\">1</td><td style = \"text-align: right;\">2</td><td style = \"text-align: right;\">1</td></tr><tr><td class = \"rowNumber\" style = \"font-weight: bold; text-align: right;\">7</td><td style = \"text-align: left;\">LP001013</td><td style = \"text-align: right;\">1</td><td style = \"text-align: right;\">1</td><td style = \"text-align: right;\">0</td><td style = \"text-align: right;\">1</td><td style = \"text-align: right;\">0</td><td style = \"text-align: right;\">2333</td><td style = \"text-align: right;\">1516.0</td><td style = \"text-align: right;\">95</td><td style = \"text-align: right;\">360</td><td style = \"text-align: right;\">1</td><td style = \"text-align: right;\">2</td><td style = \"text-align: right;\">1</td></tr><tr><td class = \"rowNumber\" style = \"font-weight: bold; text-align: right;\">8</td><td style = \"text-align: left;\">LP001014</td><td style = \"text-align: right;\">1</td><td style = \"text-align: right;\">1</td><td style = \"text-align: right;\">3</td><td style = \"text-align: right;\">0</td><td style = \"text-align: right;\">0</td><td style = \"text-align: right;\">3036</td><td style = \"text-align: right;\">2504.0</td><td style = \"text-align: right;\">158</td><td style = \"text-align: right;\">360</td><td style = \"text-align: right;\">0</td><td style = \"text-align: right;\">1</td><td style = \"text-align: right;\">0</td></tr><tr><td class = \"rowNumber\" style = \"font-weight: bold; text-align: right;\">9</td><td style = \"text-align: left;\">LP001018</td><td style = \"text-align: right;\">1</td><td style = \"text-align: right;\">1</td><td style = \"text-align: right;\">2</td><td style = \"text-align: right;\">0</td><td style = \"text-align: right;\">0</td><td style = \"text-align: right;\">4006</td><td style = \"text-align: right;\">1526.0</td><td style = \"text-align: right;\">168</td><td style = \"text-align: right;\">360</td><td style = \"text-align: right;\">1</td><td style = \"text-align: right;\">2</td><td style = \"text-align: right;\">1</td></tr><tr><td class = \"rowNumber\" style = \"font-weight: bold; text-align: right;\">10</td><td style = \"text-align: left;\">LP001020</td><td style = \"text-align: right;\">1</td><td style = \"text-align: right;\">1</td><td style = \"text-align: right;\">1</td><td style = \"text-align: right;\">0</td><td style = \"text-align: right;\">0</td><td style = \"text-align: right;\">12841</td><td style = \"text-align: right;\">10968.0</td><td style = \"text-align: right;\">349</td><td style = \"text-align: right;\">360</td><td style = \"text-align: right;\">1</td><td style = \"text-align: right;\">1</td><td style = \"text-align: right;\">0</td></tr><tr><td class = \"rowNumber\" style = \"font-weight: bold; text-align: right;\">11</td><td style = \"text-align: left;\">LP001024</td><td style = \"text-align: right;\">1</td><td style = \"text-align: right;\">1</td><td style = \"text-align: right;\">2</td><td style = \"text-align: right;\">0</td><td style = \"text-align: right;\">0</td><td style = \"text-align: right;\">3200</td><td style = \"text-align: right;\">700.0</td><td style = \"text-align: right;\">70</td><td style = \"text-align: right;\">360</td><td style = \"text-align: right;\">1</td><td style = \"text-align: right;\">2</td><td style = \"text-align: right;\">1</td></tr><tr><td class = \"rowNumber\" style = \"font-weight: bold; text-align: right;\">12</td><td style = \"text-align: left;\">LP001027</td><td style = \"text-align: right;\">1</td><td style = \"text-align: right;\">1</td><td style = \"text-align: right;\">2</td><td style = \"text-align: right;\">0</td><td style = \"text-align: right;\">0</td><td style = \"text-align: right;\">2500</td><td style = \"text-align: right;\">1840.0</td><td style = \"text-align: right;\">109</td><td style = \"text-align: right;\">360</td><td style = \"text-align: right;\">1</td><td style = \"text-align: right;\">2</td><td style = \"text-align: right;\">1</td></tr><tr><td class = \"rowNumber\" style = \"font-weight: bold; text-align: right;\">13</td><td style = \"text-align: left;\">LP001028</td><td style = \"text-align: right;\">1</td><td style = \"text-align: right;\">1</td><td style = \"text-align: right;\">2</td><td style = \"text-align: right;\">0</td><td style = \"text-align: right;\">0</td><td style = \"text-align: right;\">3073</td><td style = \"text-align: right;\">8106.0</td><td style = \"text-align: right;\">200</td><td style = \"text-align: right;\">360</td><td style = \"text-align: right;\">1</td><td style = \"text-align: right;\">2</td><td style = \"text-align: right;\">1</td></tr><tr><td style = \"text-align: right;\">&vellip;</td><td style = \"text-align: right;\">&vellip;</td><td style = \"text-align: right;\">&vellip;</td><td style = \"text-align: right;\">&vellip;</td><td style = \"text-align: right;\">&vellip;</td><td style = \"text-align: right;\">&vellip;</td><td style = \"text-align: right;\">&vellip;</td><td style = \"text-align: right;\">&vellip;</td><td style = \"text-align: right;\">&vellip;</td><td style = \"text-align: right;\">&vellip;</td><td style = \"text-align: right;\">&vellip;</td><td style = \"text-align: right;\">&vellip;</td><td style = \"text-align: right;\">&vellip;</td><td style = \"text-align: right;\">&vellip;</td></tr><tr><td class = \"rowNumber\" style = \"font-weight: bold; text-align: right;\">603</td><td style = \"text-align: left;\">LP002953</td><td style = \"text-align: right;\">1</td><td style = \"text-align: right;\">1</td><td style = \"text-align: right;\">3</td><td style = \"text-align: right;\">0</td><td style = \"text-align: right;\">0</td><td style = \"text-align: right;\">5703</td><td style = \"text-align: right;\">0.0</td><td style = \"text-align: right;\">128</td><td style = \"text-align: right;\">360</td><td style = \"text-align: right;\">1</td><td style = \"text-align: right;\">2</td><td style = \"text-align: right;\">1</td></tr><tr><td class = \"rowNumber\" style = \"font-weight: bold; text-align: right;\">604</td><td style = \"text-align: left;\">LP002958</td><td style = \"text-align: right;\">1</td><td style = \"text-align: right;\">0</td><td style = \"text-align: right;\">0</td><td style = \"text-align: right;\">0</td><td style = \"text-align: right;\">0</td><td style = \"text-align: right;\">3676</td><td style = \"text-align: right;\">4301.0</td><td style = \"text-align: right;\">172</td><td style = \"text-align: right;\">360</td><td style = \"text-align: right;\">1</td><td style = \"text-align: right;\">0</td><td style = \"text-align: right;\">1</td></tr><tr><td class = \"rowNumber\" style = \"font-weight: bold; text-align: right;\">605</td><td style = \"text-align: left;\">LP002959</td><td style = \"text-align: right;\">0</td><td style = \"text-align: right;\">1</td><td style = \"text-align: right;\">1</td><td style = \"text-align: right;\">0</td><td style = \"text-align: right;\">0</td><td style = \"text-align: right;\">12000</td><td style = \"text-align: right;\">0.0</td><td style = \"text-align: right;\">496</td><td style = \"text-align: right;\">360</td><td style = \"text-align: right;\">1</td><td style = \"text-align: right;\">1</td><td style = \"text-align: right;\">1</td></tr><tr><td class = \"rowNumber\" style = \"font-weight: bold; text-align: right;\">606</td><td style = \"text-align: left;\">LP002960</td><td style = \"text-align: right;\">1</td><td style = \"text-align: right;\">1</td><td style = \"text-align: right;\">0</td><td style = \"text-align: right;\">1</td><td style = \"text-align: right;\">0</td><td style = \"text-align: right;\">2400</td><td style = \"text-align: right;\">3800.0</td><td style = \"text-align: right;\">146.0</td><td style = \"text-align: right;\">180</td><td style = \"text-align: right;\">1</td><td style = \"text-align: right;\">2</td><td style = \"text-align: right;\">0</td></tr><tr><td class = \"rowNumber\" style = \"font-weight: bold; text-align: right;\">607</td><td style = \"text-align: left;\">LP002961</td><td style = \"text-align: right;\">1</td><td style = \"text-align: right;\">1</td><td style = \"text-align: right;\">1</td><td style = \"text-align: right;\">0</td><td style = \"text-align: right;\">0</td><td style = \"text-align: right;\">3400</td><td style = \"text-align: right;\">2500.0</td><td style = \"text-align: right;\">173</td><td style = \"text-align: right;\">360</td><td style = \"text-align: right;\">1</td><td style = \"text-align: right;\">1</td><td style = \"text-align: right;\">1</td></tr><tr><td class = \"rowNumber\" style = \"font-weight: bold; text-align: right;\">608</td><td style = \"text-align: left;\">LP002964</td><td style = \"text-align: right;\">1</td><td style = \"text-align: right;\">1</td><td style = \"text-align: right;\">2</td><td style = \"text-align: right;\">1</td><td style = \"text-align: right;\">0</td><td style = \"text-align: right;\">3987</td><td style = \"text-align: right;\">1411.0</td><td style = \"text-align: right;\">157</td><td style = \"text-align: right;\">360</td><td style = \"text-align: right;\">1</td><td style = \"text-align: right;\">0</td><td style = \"text-align: right;\">1</td></tr><tr><td class = \"rowNumber\" style = \"font-weight: bold; text-align: right;\">609</td><td style = \"text-align: left;\">LP002974</td><td style = \"text-align: right;\">1</td><td style = \"text-align: right;\">1</td><td style = \"text-align: right;\">0</td><td style = \"text-align: right;\">0</td><td style = \"text-align: right;\">0</td><td style = \"text-align: right;\">3232</td><td style = \"text-align: right;\">1950.0</td><td style = \"text-align: right;\">108</td><td style = \"text-align: right;\">360</td><td style = \"text-align: right;\">1</td><td style = \"text-align: right;\">0</td><td style = \"text-align: right;\">1</td></tr><tr><td class = \"rowNumber\" style = \"font-weight: bold; text-align: right;\">610</td><td style = \"text-align: left;\">LP002978</td><td style = \"text-align: right;\">0</td><td style = \"text-align: right;\">0</td><td style = \"text-align: right;\">0</td><td style = \"text-align: right;\">0</td><td style = \"text-align: right;\">0</td><td style = \"text-align: right;\">2900</td><td style = \"text-align: right;\">0.0</td><td style = \"text-align: right;\">71</td><td style = \"text-align: right;\">360</td><td style = \"text-align: right;\">1</td><td style = \"text-align: right;\">0</td><td style = \"text-align: right;\">1</td></tr><tr><td class = \"rowNumber\" style = \"font-weight: bold; text-align: right;\">611</td><td style = \"text-align: left;\">LP002979</td><td style = \"text-align: right;\">1</td><td style = \"text-align: right;\">1</td><td style = \"text-align: right;\">3</td><td style = \"text-align: right;\">0</td><td style = \"text-align: right;\">0</td><td style = \"text-align: right;\">4106</td><td style = \"text-align: right;\">0.0</td><td style = \"text-align: right;\">40</td><td style = \"text-align: right;\">180</td><td style = \"text-align: right;\">1</td><td style = \"text-align: right;\">0</td><td style = \"text-align: right;\">1</td></tr><tr><td class = \"rowNumber\" style = \"font-weight: bold; text-align: right;\">612</td><td style = \"text-align: left;\">LP002983</td><td style = \"text-align: right;\">1</td><td style = \"text-align: right;\">1</td><td style = \"text-align: right;\">1</td><td style = \"text-align: right;\">0</td><td style = \"text-align: right;\">0</td><td style = \"text-align: right;\">8072</td><td style = \"text-align: right;\">240.0</td><td style = \"text-align: right;\">253</td><td style = \"text-align: right;\">360</td><td style = \"text-align: right;\">1</td><td style = \"text-align: right;\">2</td><td style = \"text-align: right;\">1</td></tr><tr><td class = \"rowNumber\" style = \"font-weight: bold; text-align: right;\">613</td><td style = \"text-align: left;\">LP002984</td><td style = \"text-align: right;\">1</td><td style = \"text-align: right;\">1</td><td style = \"text-align: right;\">2</td><td style = \"text-align: right;\">0</td><td style = \"text-align: right;\">0</td><td style = \"text-align: right;\">7583</td><td style = \"text-align: right;\">0.0</td><td style = \"text-align: right;\">187</td><td style = \"text-align: right;\">360</td><td style = \"text-align: right;\">1</td><td style = \"text-align: right;\">2</td><td style = \"text-align: right;\">1</td></tr><tr><td class = \"rowNumber\" style = \"font-weight: bold; text-align: right;\">614</td><td style = \"text-align: left;\">LP002990</td><td style = \"text-align: right;\">0</td><td style = \"text-align: right;\">0</td><td style = \"text-align: right;\">0</td><td style = \"text-align: right;\">0</td><td style = \"text-align: right;\">1</td><td style = \"text-align: right;\">4583</td><td style = \"text-align: right;\">0.0</td><td style = \"text-align: right;\">133</td><td style = \"text-align: right;\">360</td><td style = \"text-align: right;\">0</td><td style = \"text-align: right;\">1</td><td style = \"text-align: right;\">0</td></tr></tbody></table></div>"
      ],
      "text/latex": [
       "\\begin{tabular}{r|cccccccc}\n",
       "\t& Loan\\_ID & Gender & Married & Dependents & Education & Self\\_Employed & ApplicantIncome & \\\\\n",
       "\t\\hline\n",
       "\t& String15 & Int64 & Int64 & Int64 & Int64 & Int64 & Int64 & \\\\\n",
       "\t\\hline\n",
       "\t1 & LP001002 & 1 & 0 & 0 & 0 & 0 & 5849 & $\\dots$ \\\\\n",
       "\t2 & LP001003 & 1 & 1 & 1 & 0 & 0 & 4583 & $\\dots$ \\\\\n",
       "\t3 & LP001005 & 1 & 1 & 0 & 0 & 1 & 3000 & $\\dots$ \\\\\n",
       "\t4 & LP001006 & 1 & 1 & 0 & 1 & 0 & 2583 & $\\dots$ \\\\\n",
       "\t5 & LP001008 & 1 & 0 & 0 & 0 & 0 & 6000 & $\\dots$ \\\\\n",
       "\t6 & LP001011 & 1 & 1 & 2 & 0 & 1 & 5417 & $\\dots$ \\\\\n",
       "\t7 & LP001013 & 1 & 1 & 0 & 1 & 0 & 2333 & $\\dots$ \\\\\n",
       "\t8 & LP001014 & 1 & 1 & 3 & 0 & 0 & 3036 & $\\dots$ \\\\\n",
       "\t9 & LP001018 & 1 & 1 & 2 & 0 & 0 & 4006 & $\\dots$ \\\\\n",
       "\t10 & LP001020 & 1 & 1 & 1 & 0 & 0 & 12841 & $\\dots$ \\\\\n",
       "\t11 & LP001024 & 1 & 1 & 2 & 0 & 0 & 3200 & $\\dots$ \\\\\n",
       "\t12 & LP001027 & 1 & 1 & 2 & 0 & 0 & 2500 & $\\dots$ \\\\\n",
       "\t13 & LP001028 & 1 & 1 & 2 & 0 & 0 & 3073 & $\\dots$ \\\\\n",
       "\t14 & LP001029 & 1 & 0 & 0 & 0 & 0 & 1853 & $\\dots$ \\\\\n",
       "\t15 & LP001030 & 1 & 1 & 2 & 0 & 0 & 1299 & $\\dots$ \\\\\n",
       "\t16 & LP001032 & 1 & 0 & 0 & 0 & 0 & 4950 & $\\dots$ \\\\\n",
       "\t17 & LP001034 & 1 & 0 & 1 & 1 & 0 & 3596 & $\\dots$ \\\\\n",
       "\t18 & LP001036 & 0 & 0 & 0 & 0 & 0 & 3510 & $\\dots$ \\\\\n",
       "\t19 & LP001038 & 1 & 1 & 0 & 1 & 0 & 4887 & $\\dots$ \\\\\n",
       "\t20 & LP001041 & 1 & 1 & 0 & 0 & 0 & 2600 & $\\dots$ \\\\\n",
       "\t21 & LP001043 & 1 & 1 & 0 & 1 & 0 & 7660 & $\\dots$ \\\\\n",
       "\t22 & LP001046 & 1 & 1 & 1 & 0 & 0 & 5955 & $\\dots$ \\\\\n",
       "\t23 & LP001047 & 1 & 1 & 0 & 1 & 0 & 2600 & $\\dots$ \\\\\n",
       "\t24 & LP001050 & 1 & 1 & 2 & 1 & 0 & 3365 & $\\dots$ \\\\\n",
       "\t25 & LP001052 & 1 & 1 & 1 & 0 & 0 & 3717 & $\\dots$ \\\\\n",
       "\t26 & LP001066 & 1 & 1 & 0 & 0 & 1 & 9560 & $\\dots$ \\\\\n",
       "\t27 & LP001068 & 1 & 1 & 0 & 0 & 0 & 2799 & $\\dots$ \\\\\n",
       "\t28 & LP001073 & 1 & 1 & 2 & 1 & 0 & 4226 & $\\dots$ \\\\\n",
       "\t29 & LP001086 & 1 & 0 & 0 & 1 & 0 & 1442 & $\\dots$ \\\\\n",
       "\t30 & LP001087 & 0 & 0 & 2 & 0 & 0 & 3750 & $\\dots$ \\\\\n",
       "\t$\\dots$ & $\\dots$ & $\\dots$ & $\\dots$ & $\\dots$ & $\\dots$ & $\\dots$ & $\\dots$ &  \\\\\n",
       "\\end{tabular}\n"
      ],
      "text/plain": [
       "\u001b[1m614×13 DataFrame\u001b[0m\n",
       "\u001b[1m Row \u001b[0m│\u001b[1m Loan_ID  \u001b[0m\u001b[1m Gender \u001b[0m\u001b[1m Married \u001b[0m\u001b[1m Dependents \u001b[0m\u001b[1m Education \u001b[0m\u001b[1m Self_Employed \u001b[0m\u001b[1m Applic\u001b[0m ⋯\n",
       "     │\u001b[90m String15 \u001b[0m\u001b[90m Int64  \u001b[0m\u001b[90m Int64   \u001b[0m\u001b[90m Int64      \u001b[0m\u001b[90m Int64     \u001b[0m\u001b[90m Int64         \u001b[0m\u001b[90m Int64 \u001b[0m ⋯\n",
       "─────┼──────────────────────────────────────────────────────────────────────────\n",
       "   1 │ LP001002       1        0           0          0              0         ⋯\n",
       "   2 │ LP001003       1        1           1          0              0\n",
       "   3 │ LP001005       1        1           0          0              1\n",
       "   4 │ LP001006       1        1           0          1              0\n",
       "   5 │ LP001008       1        0           0          0              0         ⋯\n",
       "   6 │ LP001011       1        1           2          0              1\n",
       "   7 │ LP001013       1        1           0          1              0\n",
       "   8 │ LP001014       1        1           3          0              0\n",
       "   9 │ LP001018       1        1           2          0              0         ⋯\n",
       "  10 │ LP001020       1        1           1          0              0\n",
       "  11 │ LP001024       1        1           2          0              0\n",
       "  ⋮  │    ⋮        ⋮        ⋮         ⋮           ⋮            ⋮               ⋱\n",
       " 605 │ LP002959       0        1           1          0              0\n",
       " 606 │ LP002960       1        1           0          1              0         ⋯\n",
       " 607 │ LP002961       1        1           1          0              0\n",
       " 608 │ LP002964       1        1           2          1              0\n",
       " 609 │ LP002974       1        1           0          0              0\n",
       " 610 │ LP002978       0        0           0          0              0         ⋯\n",
       " 611 │ LP002979       1        1           3          0              0\n",
       " 612 │ LP002983       1        1           1          0              0\n",
       " 613 │ LP002984       1        1           2          0              0\n",
       " 614 │ LP002990       0        0           0          0              1         ⋯\n",
       "\u001b[36m                                                  7 columns and 593 rows omitted\u001b[0m"
      ]
     },
     "execution_count": 23,
     "metadata": {},
     "output_type": "execute_result"
    }
   ],
   "source": [
    "train"
   ]
  },
  {
   "cell_type": "code",
   "execution_count": 24,
   "id": "e42749d5",
   "metadata": {},
   "outputs": [
    {
     "data": {
      "text/plain": [
       "\"ProcessedData.csv\""
      ]
     },
     "execution_count": 24,
     "metadata": {},
     "output_type": "execute_result"
    }
   ],
   "source": [
    "using CSV\n",
    "CSV.write(\"ProcessedData.csv\", train)"
   ]
  },
  {
   "cell_type": "code",
   "execution_count": null,
   "id": "fa8130bb",
   "metadata": {},
   "outputs": [],
   "source": []
  }
 ],
 "metadata": {
  "kernelspec": {
   "display_name": "Julia 1.8.3",
   "language": "julia",
   "name": "julia-1.8"
  },
  "language_info": {
   "file_extension": ".jl",
   "mimetype": "application/julia",
   "name": "julia",
   "version": "1.8.3"
  }
 },
 "nbformat": 4,
 "nbformat_minor": 5
}
