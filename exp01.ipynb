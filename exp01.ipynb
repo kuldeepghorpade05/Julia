{
 "cells": [
  {
   "cell_type": "code",
   "execution_count": 1,
   "id": "3342d95c",
   "metadata": {},
   "outputs": [],
   "source": [
    "#Name:- Kuldeep Ghorpade\n",
    "#DIV:- B\n",
    "#Roll No. :- 09\n",
    "#Experiment No. :-01"
   ]
  },
  {
   "cell_type": "code",
   "execution_count": 4,
   "id": "f7746e88",
   "metadata": {},
   "outputs": [
    {
     "data": {
      "text/plain": [
       "3.142"
      ]
     },
     "execution_count": 4,
     "metadata": {},
     "output_type": "execute_result"
    }
   ],
   "source": [
    "name = \"kuldeep\"\n",
    "number = 25\n",
    "pie_value = 3.142"
   ]
  },
  {
   "cell_type": "code",
   "execution_count": 6,
   "id": "6d90e5d9",
   "metadata": {},
   "outputs": [
    {
     "name": "stdout",
     "output_type": "stream",
     "text": [
      "kuldeep"
     ]
    }
   ],
   "source": [
    "print(name)"
   ]
  },
  {
   "cell_type": "code",
   "execution_count": 7,
   "id": "d703cdff",
   "metadata": {},
   "outputs": [],
   "source": [
    "#Mathematical Operations"
   ]
  },
  {
   "cell_type": "code",
   "execution_count": 8,
   "id": "6747b95e",
   "metadata": {},
   "outputs": [
    {
     "name": "stdout",
     "output_type": "stream",
     "text": [
      "addition is 5"
     ]
    }
   ],
   "source": [
    "a = 2\n",
    "b = 3\n",
    "sum = a + b\n",
    "print(\"addition is \",sum)"
   ]
  },
  {
   "cell_type": "code",
   "execution_count": 9,
   "id": "310d9d40",
   "metadata": {},
   "outputs": [
    {
     "name": "stdout",
     "output_type": "stream",
     "text": [
      "The Difference = -1\n"
     ]
    }
   ],
   "source": [
    "difference = a - b\n",
    "println(\"The Difference = \", difference)"
   ]
  },
  {
   "cell_type": "code",
   "execution_count": 10,
   "id": "c2d9fae4",
   "metadata": {},
   "outputs": [
    {
     "name": "stdout",
     "output_type": "stream",
     "text": [
      "The Product = 6\n"
     ]
    }
   ],
   "source": [
    "product = a * b\n",
    "println(\"The Product = \" ,product)"
   ]
  },
  {
   "cell_type": "code",
   "execution_count": 12,
   "id": "bfb78e46",
   "metadata": {},
   "outputs": [
    {
     "name": "stdout",
     "output_type": "stream",
     "text": [
      "the quotient = 1.5"
     ]
    }
   ],
   "source": [
    "quotient = b / a\n",
    "print(\"the quotient = \",quotient)"
   ]
  },
  {
   "cell_type": "code",
   "execution_count": 13,
   "id": "259182bb",
   "metadata": {},
   "outputs": [
    {
     "name": "stdout",
     "output_type": "stream",
     "text": [
      "The Power = 8"
     ]
    }
   ],
   "source": [
    "power = a^3\n",
    "print(\"The Power = \", power)"
   ]
  },
  {
   "cell_type": "code",
   "execution_count": 14,
   "id": "e6f0ae41",
   "metadata": {},
   "outputs": [
    {
     "data": {
      "text/plain": [
       "1"
      ]
     },
     "execution_count": 14,
     "metadata": {},
     "output_type": "execute_result"
    }
   ],
   "source": [
    "modulus = b % a"
   ]
  },
  {
   "cell_type": "code",
   "execution_count": 15,
   "id": "3d68d77b",
   "metadata": {},
   "outputs": [],
   "source": [
    "#Data Type"
   ]
  },
  {
   "cell_type": "code",
   "execution_count": 16,
   "id": "e75a14f2",
   "metadata": {},
   "outputs": [
    {
     "data": {
      "text/plain": [
       "Float64"
      ]
     },
     "execution_count": 16,
     "metadata": {},
     "output_type": "execute_result"
    }
   ],
   "source": [
    "typeof(0.2)"
   ]
  },
  {
   "cell_type": "code",
   "execution_count": 17,
   "id": "57542f22",
   "metadata": {},
   "outputs": [
    {
     "data": {
      "text/plain": [
       "Int64"
      ]
     },
     "execution_count": 17,
     "metadata": {},
     "output_type": "execute_result"
    }
   ],
   "source": [
    "typeof(50)"
   ]
  },
  {
   "cell_type": "code",
   "execution_count": 18,
   "id": "7d4d70fa",
   "metadata": {},
   "outputs": [
    {
     "data": {
      "text/plain": [
       "String"
      ]
     },
     "execution_count": 18,
     "metadata": {},
     "output_type": "execute_result"
    }
   ],
   "source": [
    "typeof(\"Amey\")\n"
   ]
  },
  {
   "cell_type": "code",
   "execution_count": 19,
   "id": "9bd3e28c",
   "metadata": {},
   "outputs": [],
   "source": [
    "#Data structures\n"
   ]
  },
  {
   "cell_type": "code",
   "execution_count": 20,
   "id": "e41c8dd3",
   "metadata": {},
   "outputs": [],
   "source": [
    "#Vectors"
   ]
  },
  {
   "cell_type": "code",
   "execution_count": 22,
   "id": "75d7da2c",
   "metadata": {},
   "outputs": [
    {
     "name": "stdout",
     "output_type": "stream",
     "text": [
      "[1, 2, 3, 4, 5, 6, 7]\n",
      "[1.2, 3.0, 4.0, 5.0, 6.0]\n",
      "[\"kuldeep\", \"Ghorpade\", \"xyz\"]\n"
     ]
    }
   ],
   "source": [
    "a = [1,2,3,4,5,6,7]\n",
    "b = [1.2, 3,4,5,6]\n",
    "c = [\"kuldeep\", \"Ghorpade\", \"xyz\"]\n",
    "println(a)\n",
    "println(b)\n",
    "println(c)"
   ]
  },
  {
   "cell_type": "code",
   "execution_count": 23,
   "id": "c48523b8",
   "metadata": {},
   "outputs": [],
   "source": [
    "#Matrices\n"
   ]
  },
  {
   "cell_type": "code",
   "execution_count": 24,
   "id": "72c1e2d5",
   "metadata": {},
   "outputs": [
    {
     "data": {
      "text/plain": [
       "2×3 Matrix{Int64}:\n",
       " 4  5  7\n",
       " 8  1  3"
      ]
     },
     "execution_count": 24,
     "metadata": {},
     "output_type": "execute_result"
    }
   ],
   "source": [
    "Matri_1 = [4 5 7; 8 1 3]\n"
   ]
  },
  {
   "cell_type": "code",
   "execution_count": 25,
   "id": "4242585a",
   "metadata": {},
   "outputs": [
    {
     "data": {
      "text/plain": [
       "2×3 Matrix{Int64}:\n",
       " 4  5  7\n",
       " 8  1  3"
      ]
     },
     "execution_count": 25,
     "metadata": {},
     "output_type": "execute_result"
    }
   ],
   "source": [
    "Matri_2 = [4 5 7; 8 1 3]"
   ]
  },
  {
   "cell_type": "code",
   "execution_count": 26,
   "id": "a068e588",
   "metadata": {},
   "outputs": [
    {
     "data": {
      "text/plain": [
       "2×3 Matrix{Int64}:\n",
       "  8  10  14\n",
       " 16   2   6"
      ]
     },
     "execution_count": 26,
     "metadata": {},
     "output_type": "execute_result"
    }
   ],
   "source": [
    "Matri_1 + Matri_2"
   ]
  },
  {
   "cell_type": "code",
   "execution_count": 27,
   "id": "8d3ff17a",
   "metadata": {},
   "outputs": [],
   "source": [
    "#Tuples\n"
   ]
  },
  {
   "cell_type": "code",
   "execution_count": 28,
   "id": "f4720265",
   "metadata": {},
   "outputs": [
    {
     "name": "stdout",
     "output_type": "stream",
     "text": [
      "(1, 2, 3, 4, 5)\n"
     ]
    }
   ],
   "source": [
    "a = (1,2,3,4,5)\n",
    "b = 1, 2, 3, 4, 5\n",
    "println(a)"
   ]
  },
  {
   "cell_type": "code",
   "execution_count": 29,
   "id": "4e5e6342",
   "metadata": {},
   "outputs": [],
   "source": [
    "#Named Tuples"
   ]
  },
  {
   "cell_type": "code",
   "execution_count": 30,
   "id": "48a086b9",
   "metadata": {},
   "outputs": [
    {
     "data": {
      "text/plain": [
       "\"hello\""
      ]
     },
     "execution_count": 30,
     "metadata": {},
     "output_type": "execute_result"
    }
   ],
   "source": [
    "named_tuple = (a = 1, b = \"hello\")\n",
    "named_tuple[:b]"
   ]
  },
  {
   "cell_type": "code",
   "execution_count": 32,
   "id": "e2c9bcf2",
   "metadata": {},
   "outputs": [],
   "source": [
    "#Dictionaries"
   ]
  },
  {
   "cell_type": "code",
   "execution_count": 33,
   "id": "fc287a35",
   "metadata": {},
   "outputs": [
    {
     "name": "stdout",
     "output_type": "stream",
     "text": [
      "kuldeep"
     ]
    }
   ],
   "source": [
    "Person_1 = Dict(\"Name\" => \"kuldeep\", \"Phone\" => 7019399829, \"Pant-size\" => 40)\n",
    "print(Person_1[\"Name\"])"
   ]
  },
  {
   "cell_type": "code",
   "execution_count": 34,
   "id": "e114be36",
   "metadata": {},
   "outputs": [],
   "source": [
    "#String"
   ]
  },
  {
   "cell_type": "code",
   "execution_count": 35,
   "id": "180425b8",
   "metadata": {},
   "outputs": [
    {
     "name": "stdout",
     "output_type": "stream",
     "text": [
      "My Name is kuldeep\n"
     ]
    }
   ],
   "source": [
    "firstname = \"kuldeep\"\n",
    "println(\"My Name is $firstname\")"
   ]
  },
  {
   "cell_type": "code",
   "execution_count": 38,
   "id": "48896f92",
   "metadata": {},
   "outputs": [
    {
     "data": {
      "text/plain": [
       "\"kuldeep Ghorpade\""
      ]
     },
     "execution_count": 38,
     "metadata": {},
     "output_type": "execute_result"
    }
   ],
   "source": [
    "lastname=\" Ghorpade\"\n",
    "string(firstname,lastname)#concatenation"
   ]
  },
  {
   "cell_type": "code",
   "execution_count": 39,
   "id": "4537e9a1",
   "metadata": {},
   "outputs": [
    {
     "data": {
      "text/plain": [
       "\"This is,\\nJulia Programming Language.\\n\""
      ]
     },
     "execution_count": 39,
     "metadata": {},
     "output_type": "execute_result"
    }
   ],
   "source": [
    "str = \"\"\"\n",
    "This is,\n",
    "Julia Programming Language.\n",
    "\"\"\" #Multiline String"
   ]
  },
  {
   "cell_type": "code",
   "execution_count": 40,
   "id": "dbdc49ec",
   "metadata": {},
   "outputs": [
    {
     "name": "stdout",
     "output_type": "stream",
     "text": [
      "This is,\n",
      "Julia Programming Language.\n"
     ]
    }
   ],
   "source": [
    "print(str)"
   ]
  },
  {
   "cell_type": "code",
   "execution_count": null,
   "id": "bb7c4381",
   "metadata": {},
   "outputs": [],
   "source": []
  }
 ],
 "metadata": {
  "kernelspec": {
   "display_name": "Julia 1.8.3",
   "language": "julia",
   "name": "julia-1.8"
  },
  "language_info": {
   "file_extension": ".jl",
   "mimetype": "application/julia",
   "name": "julia",
   "version": "1.8.3"
  }
 },
 "nbformat": 4,
 "nbformat_minor": 5
}
