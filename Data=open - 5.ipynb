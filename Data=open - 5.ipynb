{
 "cells": [
  {
   "cell_type": "code",
   "execution_count": 1,
   "id": "8f9cc252",
   "metadata": {},
   "outputs": [],
   "source": [
    "#Name :- Kuldeep Ghorpade\n"
   ]
  },
  {
   "cell_type": "code",
   "execution_count": 2,
   "id": "4fb2db3e",
   "metadata": {},
   "outputs": [
    {
     "name": "stdout",
     "output_type": "stream",
     "text": [
      "Enter name\n",
      "stdin> kuldeep\n",
      "My name is kuldeep\n"
     ]
    }
   ],
   "source": [
    "println(\"Enter name\")\n",
    "name=chomp(readline())\n",
    "println(\"My name is $name\")"
   ]
  },
  {
   "cell_type": "code",
   "execution_count": 4,
   "id": "91fd0bcf",
   "metadata": {},
   "outputs": [
    {
     "name": "stdout",
     "output_type": "stream",
     "text": [
      "A simple text file which \n",
      "is not containing anything.......\n",
      "\n",
      "THANK YOU!!!\n"
     ]
    }
   ],
   "source": [
    "data=open(\"s1.txt\") do file\n",
    " read(file,String)\n",
    "end\n",
    "println(data)"
   ]
  },
  {
   "cell_type": "code",
   "execution_count": 5,
   "id": "0eeab3fa",
   "metadata": {},
   "outputs": [
    {
     "name": "stdout",
     "output_type": "stream",
     "text": [
      "A simple text file which \n",
      "is not containing anything.......\n",
      "\n",
      "THANK YOU!!!\n"
     ]
    }
   ],
   "source": [
    "data=open(\"s1.txt\") do file\n",
    " for line in eachline(file)\n",
    " println(line)\n",
    " end\n",
    "end"
   ]
  },
  {
   "cell_type": "code",
   "execution_count": 6,
   "id": "dc3a8210",
   "metadata": {},
   "outputs": [
    {
     "name": "stdout",
     "output_type": "stream",
     "text": [
      "Content written in the file\n"
     ]
    }
   ],
   "source": [
    "open(\"s1.txt\",\"w\") do file\n",
    " write(file,\"New contents in the file\")\n",
    " println(\"Content written in the file\")\n",
    "end"
   ]
  },
  {
   "cell_type": "code",
   "execution_count": 7,
   "id": "50335f94",
   "metadata": {},
   "outputs": [
    {
     "name": "stdout",
     "output_type": "stream",
     "text": [
      "New contents in the file\n"
     ]
    }
   ],
   "source": [
    "data=open(\"s1.txt\") do file\n",
    " for line in eachline(file)\n",
    " println(line)\n",
    " end\n",
    " end"
   ]
  },
  {
   "cell_type": "code",
   "execution_count": 8,
   "id": "a559e4a3",
   "metadata": {},
   "outputs": [],
   "source": [
    "using Pkg"
   ]
  },
  {
   "cell_type": "code",
   "execution_count": 9,
   "id": "1bd3bda5",
   "metadata": {},
   "outputs": [],
   "source": [
    "using Sockets"
   ]
  },
  {
   "cell_type": "code",
   "execution_count": 10,
   "id": "4c3e2446",
   "metadata": {},
   "outputs": [
    {
     "data": {
      "text/plain": [
       "Task (runnable) @0x00000267076a64e0"
      ]
     },
     "execution_count": 10,
     "metadata": {},
     "output_type": "execute_result"
    }
   ],
   "source": [
    "@async begin\n",
    " server = listen(ip\"127.0.0.1\",2000)\n",
    " while true\n",
    " sock = accept(server)\n",
    " println(\"This is TCP server example\\n\")\n",
    " end\n",
    " end"
   ]
  },
  {
   "cell_type": "code",
   "execution_count": 11,
   "id": "e5b566d2",
   "metadata": {},
   "outputs": [
    {
     "name": "stdout",
     "output_type": "stream",
     "text": [
      "This is TCP server example\n"
     ]
    },
    {
     "data": {
      "text/plain": [
       "TCPSocket(Base.Libc.WindowsRawSocket(0x00000000000004a0) open, 0 bytes waiting)"
      ]
     },
     "execution_count": 11,
     "metadata": {},
     "output_type": "execute_result"
    },
    {
     "name": "stdout",
     "output_type": "stream",
     "text": [
      "\n"
     ]
    }
   ],
   "source": [
    "connect(2000)"
   ]
  },
  {
   "cell_type": "code",
   "execution_count": null,
   "id": "1412b441",
   "metadata": {},
   "outputs": [],
   "source": []
  }
 ],
 "metadata": {
  "kernelspec": {
   "display_name": "Julia 1.8.3",
   "language": "julia",
   "name": "julia-1.8"
  },
  "language_info": {
   "file_extension": ".jl",
   "mimetype": "application/julia",
   "name": "julia",
   "version": "1.8.3"
  }
 },
 "nbformat": 4,
 "nbformat_minor": 5
}
