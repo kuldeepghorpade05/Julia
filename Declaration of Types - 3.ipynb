{
 "cells": [
  {
   "cell_type": "code",
   "execution_count": 1,
   "id": "5a892675",
   "metadata": {},
   "outputs": [],
   "source": [
    "#Name:- Kuldeep Ghorpade\n"
   ]
  },
  {
   "cell_type": "code",
   "execution_count": 2,
   "id": "67618906",
   "metadata": {},
   "outputs": [],
   "source": [
    "#Declaration of Types - 3"
   ]
  },
  {
   "cell_type": "code",
   "execution_count": 3,
   "id": "d83858e0",
   "metadata": {},
   "outputs": [
    {
     "data": {
      "text/plain": [
       "30"
      ]
     },
     "execution_count": 3,
     "metadata": {},
     "output_type": "execute_result"
    }
   ],
   "source": [
    "(10+20)::Int64"
   ]
  },
  {
   "cell_type": "code",
   "execution_count": 4,
   "id": "205608c4",
   "metadata": {},
   "outputs": [
    {
     "ename": "LoadError",
     "evalue": "TypeError: in typeassert, expected Float64, got a value of type Int64",
     "output_type": "error",
     "traceback": [
      "TypeError: in typeassert, expected Float64, got a value of type Int64",
      "",
      "Stacktrace:",
      " [1] top-level scope",
      "   @ In[4]:1",
      " [2] eval",
      "   @ .\\boot.jl:368 [inlined]",
      " [3] include_string(mapexpr::typeof(REPL.softscope), mod::Module, code::String, filename::String)",
      "   @ Base .\\loading.jl:1428"
     ]
    }
   ],
   "source": [
    "(10+20)::Float64"
   ]
  },
  {
   "cell_type": "code",
   "execution_count": 5,
   "id": "5a22ace1",
   "metadata": {},
   "outputs": [
    {
     "data": {
      "text/plain": [
       "25"
      ]
     },
     "execution_count": 5,
     "metadata": {},
     "output_type": "execute_result"
    }
   ],
   "source": [
    "local x::Int64=25"
   ]
  },
  {
   "cell_type": "code",
   "execution_count": 6,
   "id": "17d763b2",
   "metadata": {},
   "outputs": [
    {
     "data": {
      "text/plain": [
       "3.0"
      ]
     },
     "execution_count": 6,
     "metadata": {},
     "output_type": "execute_result"
    }
   ],
   "source": [
    "function Addition(x, y)::Float64\n",
    "return x + y\n",
    "end\n",
    "Addition(1, 2)"
   ]
  },
  {
   "cell_type": "code",
   "execution_count": 7,
   "id": "b09d5905",
   "metadata": {},
   "outputs": [
    {
     "data": {
      "text/plain": [
       "Addition (generic function with 2 methods)"
      ]
     },
     "execution_count": 7,
     "metadata": {},
     "output_type": "execute_result"
    }
   ],
   "source": [
    "function Addition(x::Number)\n",
    " return x + 1\n",
    "end"
   ]
  },
  {
   "cell_type": "code",
   "execution_count": 8,
   "id": "cb9f3ae8",
   "metadata": {},
   "outputs": [
    {
     "data": {
      "text/plain": [
       "4"
      ]
     },
     "execution_count": 8,
     "metadata": {},
     "output_type": "execute_result"
    }
   ],
   "source": [
    "Addition(3)"
   ]
  },
  {
   "cell_type": "code",
   "execution_count": 9,
   "id": "65fe4c8d",
   "metadata": {},
   "outputs": [
    {
     "data": {
      "text/plain": [
       "8.3"
      ]
     },
     "execution_count": 9,
     "metadata": {},
     "output_type": "execute_result"
    }
   ],
   "source": [
    "Addition(7.3)"
   ]
  },
  {
   "cell_type": "code",
   "execution_count": 10,
   "id": "79c970ca",
   "metadata": {},
   "outputs": [],
   "source": [
    "#Primitive Types"
   ]
  },
  {
   "cell_type": "code",
   "execution_count": 11,
   "id": "c42f1617",
   "metadata": {},
   "outputs": [
    {
     "ename": "LoadError",
     "evalue": "Abstract type Integer does not have a definite size.",
     "output_type": "error",
     "traceback": [
      "Abstract type Integer does not have a definite size.",
      "",
      "Stacktrace:",
      " [1] sizeof(x::Type)",
      "   @ Base .\\essentials.jl:473",
      " [2] top-level scope",
      "   @ In[11]:1",
      " [3] eval",
      "   @ .\\boot.jl:368 [inlined]",
      " [4] include_string(mapexpr::typeof(REPL.softscope), mod::Module, code::String, filename::String)",
      "   @ Base .\\loading.jl:1428"
     ]
    }
   ],
   "source": [
    "sizeof(Integer)"
   ]
  },
  {
   "cell_type": "code",
   "execution_count": 12,
   "id": "8a1427db",
   "metadata": {},
   "outputs": [
    {
     "data": {
      "text/plain": [
       "4"
      ]
     },
     "execution_count": 12,
     "metadata": {},
     "output_type": "execute_result"
    }
   ],
   "source": [
    "sizeof(Int32)"
   ]
  },
  {
   "cell_type": "code",
   "execution_count": 13,
   "id": "5ad0ee1e",
   "metadata": {},
   "outputs": [
    {
     "data": {
      "text/plain": [
       "8"
      ]
     },
     "execution_count": 13,
     "metadata": {},
     "output_type": "execute_result"
    }
   ],
   "source": [
    "sizeof(Float64)"
   ]
  },
  {
   "cell_type": "code",
   "execution_count": 14,
   "id": "84e75203",
   "metadata": {},
   "outputs": [],
   "source": [
    "#Composite Types"
   ]
  },
  {
   "cell_type": "code",
   "execution_count": 15,
   "id": "0705c23b",
   "metadata": {},
   "outputs": [],
   "source": [
    "#Object Oriented Programming in Julia"
   ]
  },
  {
   "cell_type": "code",
   "execution_count": 16,
   "id": "33fb94bc",
   "metadata": {},
   "outputs": [],
   "source": [
    "struct MyObj\n",
    " field1\n",
    " \n",
    " field2\n",
    "end"
   ]
  },
  {
   "cell_type": "code",
   "execution_count": 17,
   "id": "63c470b9",
   "metadata": {},
   "outputs": [
    {
     "data": {
      "text/plain": [
       "MyObj(\"Hello\", \"World\")"
      ]
     },
     "execution_count": 17,
     "metadata": {},
     "output_type": "execute_result"
    }
   ],
   "source": [
    "myobj=MyObj(\"Hello\",\"World\")"
   ]
  },
  {
   "cell_type": "code",
   "execution_count": 18,
   "id": "56becb8b",
   "metadata": {},
   "outputs": [
    {
     "data": {
      "text/plain": [
       "\"Hello\""
      ]
     },
     "execution_count": 18,
     "metadata": {},
     "output_type": "execute_result"
    }
   ],
   "source": [
    "myobj.field1"
   ]
  },
  {
   "cell_type": "code",
   "execution_count": 19,
   "id": "8a133d03",
   "metadata": {},
   "outputs": [
    {
     "ename": "LoadError",
     "evalue": "setfield!: immutable struct of type MyObj cannot be changed",
     "output_type": "error",
     "traceback": [
      "setfield!: immutable struct of type MyObj cannot be changed",
      "",
      "Stacktrace:",
      " [1] setproperty!(x::MyObj, f::Symbol, v::String)",
      "   @ Base .\\Base.jl:39",
      " [2] top-level scope",
      "   @ In[19]:1",
      " [3] eval",
      "   @ .\\boot.jl:368 [inlined]",
      " [4] include_string(mapexpr::typeof(REPL.softscope), mod::Module, code::String, filename::String)",
      "   @ Base .\\loading.jl:1428"
     ]
    }
   ],
   "source": [
    "myobj.field1=\"welcome\""
   ]
  },
  {
   "cell_type": "code",
   "execution_count": 20,
   "id": "493e4768",
   "metadata": {},
   "outputs": [],
   "source": [
    "mutable struct Person\n",
    "name::String\n",
    "age::Float64\n",
    "isactive\n",
    "end"
   ]
  },
  {
   "cell_type": "code",
   "execution_count": 21,
   "id": "e5cff61c",
   "metadata": {},
   "outputs": [
    {
     "data": {
      "text/plain": [
       "Person(\"Peter\", 25.0, true)"
      ]
     },
     "execution_count": 21,
     "metadata": {},
     "output_type": "execute_result"
    }
   ],
   "source": [
    "newperson=Person(\"Peter\",25,true)"
   ]
  },
  {
   "cell_type": "code",
   "execution_count": 22,
   "id": "f09b986f",
   "metadata": {},
   "outputs": [
    {
     "data": {
      "text/plain": [
       "Person(\"Peter\", 25.0, true)"
      ]
     },
     "execution_count": 22,
     "metadata": {},
     "output_type": "execute_result"
    }
   ],
   "source": [
    "newperson"
   ]
  },
  {
   "cell_type": "code",
   "execution_count": 23,
   "id": "00abdc3f",
   "metadata": {},
   "outputs": [
    {
     "data": {
      "text/plain": [
       "\"Peter\""
      ]
     },
     "execution_count": 23,
     "metadata": {},
     "output_type": "execute_result"
    }
   ],
   "source": [
    "newperson.name"
   ]
  },
  {
   "cell_type": "code",
   "execution_count": 24,
   "id": "1b887396",
   "metadata": {},
   "outputs": [
    {
     "data": {
      "text/plain": [
       "\"John\""
      ]
     },
     "execution_count": 24,
     "metadata": {},
     "output_type": "execute_result"
    }
   ],
   "source": [
    "newperson.name=\"John\""
   ]
  },
  {
   "cell_type": "code",
   "execution_count": 25,
   "id": "69f86125",
   "metadata": {},
   "outputs": [
    {
     "data": {
      "text/plain": [
       "Person(\"John\", 25.0, true)"
      ]
     },
     "execution_count": 25,
     "metadata": {},
     "output_type": "execute_result"
    }
   ],
   "source": [
    "newperson"
   ]
  },
  {
   "cell_type": "code",
   "execution_count": 26,
   "id": "54fcaddd",
   "metadata": {},
   "outputs": [],
   "source": [
    "mutable struct Person\n",
    " name::String\n",
    " age::Float64\n",
    " isactive\n",
    " function Person(name,age=30) #Default Constructor\n",
    " new(name,age,true)\n",
    " end\n",
    "end"
   ]
  },
  {
   "cell_type": "code",
   "execution_count": 27,
   "id": "9feec744",
   "metadata": {},
   "outputs": [
    {
     "data": {
      "text/plain": [
       "Person(\"Peter\", 25.0, true)"
      ]
     },
     "execution_count": 27,
     "metadata": {},
     "output_type": "execute_result"
    }
   ],
   "source": [
    "newperson=Person(\"Peter\",25)"
   ]
  },
  {
   "cell_type": "code",
   "execution_count": 28,
   "id": "ee003a5c",
   "metadata": {},
   "outputs": [
    {
     "data": {
      "text/plain": [
       "birthday (generic function with 1 method)"
      ]
     },
     "execution_count": 28,
     "metadata": {},
     "output_type": "execute_result"
    }
   ],
   "source": [
    "function birthday(person::Person)\n",
    " person.age+=1\n",
    "end"
   ]
  },
  {
   "cell_type": "code",
   "execution_count": 29,
   "id": "75167e43",
   "metadata": {},
   "outputs": [
    {
     "data": {
      "text/plain": [
       "26.0"
      ]
     },
     "execution_count": 29,
     "metadata": {},
     "output_type": "execute_result"
    }
   ],
   "source": [
    "birthday(newperson)"
   ]
  },
  {
   "cell_type": "code",
   "execution_count": 30,
   "id": "61d39cfd",
   "metadata": {},
   "outputs": [
    {
     "data": {
      "text/plain": [
       "26.0"
      ]
     },
     "execution_count": 30,
     "metadata": {},
     "output_type": "execute_result"
    }
   ],
   "source": [
    "newperson.age"
   ]
  },
  {
   "cell_type": "code",
   "execution_count": null,
   "id": "8f673775",
   "metadata": {},
   "outputs": [],
   "source": []
  }
 ],
 "metadata": {
  "kernelspec": {
   "display_name": "Julia 1.8.3",
   "language": "julia",
   "name": "julia-1.8"
  },
  "language_info": {
   "file_extension": ".jl",
   "mimetype": "application/julia",
   "name": "julia",
   "version": "1.8.3"
  }
 },
 "nbformat": 4,
 "nbformat_minor": 5
}
