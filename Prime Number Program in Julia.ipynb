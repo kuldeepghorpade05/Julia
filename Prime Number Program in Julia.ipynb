{
 "cells": [
  {
   "cell_type": "code",
   "execution_count": null,
   "id": "b966d47e",
   "metadata": {},
   "outputs": [],
   "source": [
    "#Name - Kuldeep Ghorpade"
   ]
  },
  {
   "cell_type": "code",
   "execution_count": 1,
   "id": "3fb3a1c1",
   "metadata": {},
   "outputs": [
    {
     "data": {
      "text/plain": [
       "prime_list (generic function with 1 method)"
      ]
     },
     "execution_count": 1,
     "metadata": {},
     "output_type": "execute_result"
    }
   ],
   "source": [
    "function prime_check(n)\n",
    "    primes = []\n",
    "    trash = []\n",
    "    \n",
    "    for i in 2:n-1\n",
    "        if n%i == 0\n",
    "            push!(trash, 1)\n",
    "        end\n",
    "    end\n",
    "    \n",
    "    if length(trash) == 0\n",
    "        push!(primes, n)\n",
    "    end\n",
    "    return primes\n",
    "end\n",
    "\n",
    "function prime_list(n)\n",
    "    list = []\n",
    "    for i in 2:n\n",
    "        if length(prime_check(i))>0\n",
    "            push!(list, prime_check(i)[1])\n",
    "        end\n",
    "    end\n",
    "    return list\n",
    "end"
   ]
  },
  {
   "cell_type": "code",
   "execution_count": 2,
   "id": "c2adc9e7",
   "metadata": {},
   "outputs": [
    {
     "data": {
      "text/plain": [
       "15-element Vector{Any}:\n",
       "  2\n",
       "  3\n",
       "  5\n",
       "  7\n",
       " 11\n",
       " 13\n",
       " 17\n",
       " 19\n",
       " 23\n",
       " 29\n",
       " 31\n",
       " 37\n",
       " 41\n",
       " 43\n",
       " 47"
      ]
     },
     "execution_count": 2,
     "metadata": {},
     "output_type": "execute_result"
    }
   ],
   "source": [
    "prime_list(50)"
   ]
  },
  {
   "cell_type": "code",
   "execution_count": null,
   "id": "467bd0fc",
   "metadata": {},
   "outputs": [],
   "source": []
  }
 ],
 "metadata": {
  "kernelspec": {
   "display_name": "Julia 1.8.3",
   "language": "julia",
   "name": "julia-1.8"
  },
  "language_info": {
   "file_extension": ".jl",
   "mimetype": "application/julia",
   "name": "julia",
   "version": "1.8.3"
  }
 },
 "nbformat": 4,
 "nbformat_minor": 5
}
